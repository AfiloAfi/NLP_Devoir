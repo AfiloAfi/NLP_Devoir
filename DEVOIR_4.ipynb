{
 "cells": [
  {
   "cell_type": "markdown",
   "id": "a9866511",
   "metadata": {},
   "source": [
    "<div style=\"text-align: center;\">\n",
    "    <h1> <strong>Nom et Prénom : Laakel Gauzi Soumaya</strong> </h1>\n",
    "    <h3><strong>Module : NATURAL LANGUAGE PROCESSING (NLP)</strong></h3>\n",
    "    <h4><em>MST IASD/S1 2024-2025</em></h4>\n",
    "    <hr>\n",
    "    <h2><strong>DEVOIR 4 : PRATIQUER L’ANALYSE SYNTAXIQUE</strong></h2>\n",
    "    <p><i>L’objectif de ce devoir est d’utiliser la bibliothèque spaCy pour analyser une phrase en français, en identifiant automatiquement les catégories grammaticales et les relations de dépendance entre les mots. Il s’agit notamment d’extraire les éléments clés de la phrase, comme le verbe principal, le sujet, l’objet direct et les compléments circonstanciels, afin de comprendre la structure syntaxique et le sens de la phrase.</i></p>\n",
    "</div>"
   ]
  },
  {
   "cell_type": "markdown",
   "id": "7abaadf7",
   "metadata": {},
   "source": [
    "# Étape 1 : Charger le texte avec spaCy"
   ]
  },
  {
   "cell_type": "code",
   "execution_count": 3,
   "id": "e2514627",
   "metadata": {},
   "outputs": [],
   "source": [
    "import spacy\n",
    "\n",
    "# Charger le modèle français\n",
    "nlp = spacy.load(\"fr_core_news_sm\")\n",
    "\n",
    "# Texte donné\n",
    "texte = \"Le médecin prescrit des antibiotiques au patient fiévreux après le diagnostic.\"\n",
    "\n",
    "# Traitement du texte\n",
    "doc = nlp(texte)"
   ]
  },
  {
   "cell_type": "markdown",
   "id": "982c6e17",
   "metadata": {},
   "source": [
    "# Étape 2 : Afficher POS et dépendances pour chaque mot"
   ]
  },
  {
   "cell_type": "markdown",
   "id": "6e2d1edb",
   "metadata": {},
   "source": [
    "Pour chaque mot (token), on va affiche :\n",
    "- Le texte du mot.\n",
    "- Sa catégorie grammaticale (POS : Part of Speech).\n",
    "- Sa relation de dépendance syntaxique dans la phrase."
   ]
  },
  {
   "cell_type": "code",
   "execution_count": 5,
   "id": "1dfd5950",
   "metadata": {},
   "outputs": [
    {
     "name": "stdout",
     "output_type": "stream",
     "text": [
      "Le              POS: DET        Dépendance: det\n",
      "médecin         POS: NOUN       Dépendance: nsubj\n",
      "prescrit        POS: ADJ        Dépendance: ROOT\n",
      "des             POS: ADP        Dépendance: case\n",
      "antibiotiques   POS: NOUN       Dépendance: obl:arg\n",
      "au              POS: ADP        Dépendance: case\n",
      "patient         POS: NOUN       Dépendance: obl:mod\n",
      "fiévreux        POS: ADJ        Dépendance: acl\n",
      "après           POS: ADP        Dépendance: case\n",
      "le              POS: DET        Dépendance: det\n",
      "diagnostic      POS: NOUN       Dépendance: nmod\n",
      ".               POS: PUNCT      Dépendance: punct\n"
     ]
    }
   ],
   "source": [
    "for token in doc:\n",
    "    print(f\"{token.text:<15} POS: {token.pos_:<10} Dépendance: {token.dep_}\")"
   ]
  },
  {
   "cell_type": "markdown",
   "id": "22fb7c0b",
   "metadata": {},
   "source": [
    "## Interprétation de l'analyse syntaxique\n",
    "\n",
    "* **Le** → Déterminant (*DET*), dépend du mot « médecin » (fonction : déterminant du nom).\n",
    "* **médecin** → Nom (*NOUN*), c’est le **sujet** principal de la phrase (*Dépendance : nsubj*).\n",
    "* **prescrit** → Marqué comme adjectif (*ADJ*) ici, mais en réalité c’est le **verbe** principal, le **noyau** de la phrase (*Dépendance : ROOT*).\n",
    "* **des** → Préposition (*ADP*), introduit le complément « des antibiotiques » (*case*).\n",
    "* **antibiotiques** → Nom (*NOUN*), c’est le **complément d’objet indirect** du verbe (*Dépendance : obl\\:arg*).\n",
    "* **au** → Préposition (*ADP*), introduit le complément « au patient » (*case*).\n",
    "* **patient** → Nom (*NOUN*), c’est un **complément circonstanciel** du verbe (*Dépendance : obl\\:mod*).\n",
    "* **fiévreux** → Adjectif (*ADJ*), qualifie le « patient » (*Dépendance : acl*).\n",
    "* **après** → Préposition (*ADP*), introduit une circonstance de temps (*case*).\n",
    "* **le** → Déterminant (*DET*), dépend de « diagnostic » (*det*).\n",
    "* **diagnostic** → Nom (*NOUN*), c’est le complément introduit par « après » (*Dépendance : nmod*).\n",
    "* **.** → Ponctuation (*PUNCT*), marque la fin de la phrase (*punct*).\n",
    "\n",
    "\n",
    "###  Remarque!!!\n",
    "Le modèle spaCy a classé **\"prescrit\"** comme un adjectif (ADJ), ce qui est une petite erreur. En contexte, c'est un verbe (il décrit l'action principale). Ce genre de petite imprécision est normal dans le TAL."
   ]
  },
  {
   "cell_type": "markdown",
   "id": "31f60c0f",
   "metadata": {},
   "source": [
    "# Étape 3 : Trouver les éléments clés"
   ]
  },
  {
   "cell_type": "markdown",
   "id": "c72c2fa3",
   "metadata": {},
   "source": [
    "## 3.a Le verbe principal"
   ]
  },
  {
   "cell_type": "code",
   "execution_count": 6,
   "id": "890d9d14",
   "metadata": {},
   "outputs": [
    {
     "name": "stdout",
     "output_type": "stream",
     "text": [
      "Verbe principal : prescrit\n"
     ]
    }
   ],
   "source": [
    "for token in doc:\n",
    "    if token.dep_ == \"ROOT\":\n",
    "        print(\"Verbe principal :\", token.text)"
   ]
  },
  {
   "cell_type": "markdown",
   "id": "86aeef75",
   "metadata": {},
   "source": [
    "## 3.b Son sujet"
   ]
  },
  {
   "cell_type": "code",
   "execution_count": 7,
   "id": "06618743",
   "metadata": {},
   "outputs": [
    {
     "name": "stdout",
     "output_type": "stream",
     "text": [
      "Sujet : médecin\n"
     ]
    }
   ],
   "source": [
    "for token in doc:\n",
    "    if token.dep_ == \"nsubj\":\n",
    "        print(\"Sujet :\", token.text)"
   ]
  },
  {
   "cell_type": "markdown",
   "id": "5d12413e",
   "metadata": {},
   "source": [
    "## 3.c Son objet direct"
   ]
  },
  {
   "cell_type": "code",
   "execution_count": 10,
   "id": "2070d214",
   "metadata": {},
   "outputs": [
    {
     "name": "stdout",
     "output_type": "stream",
     "text": [
      "Objet direct potentiel : antibiotiques\n"
     ]
    }
   ],
   "source": [
    "for token in doc:\n",
    "    if token.dep_ in [\"obj\", \"obl:arg\"]:\n",
    "        print(\"Objet direct potentiel :\", token.text)"
   ]
  },
  {
   "cell_type": "markdown",
   "id": "def1a2eb",
   "metadata": {},
   "source": [
    "## 3.d Les compléments circonstanciels"
   ]
  },
  {
   "cell_type": "code",
   "execution_count": 12,
   "id": "f7670ebf",
   "metadata": {},
   "outputs": [
    {
     "name": "stdout",
     "output_type": "stream",
     "text": [
      "Complément circonstanciel : après le diagnostic\n"
     ]
    }
   ],
   "source": [
    "for token in doc:\n",
    "    if token.dep_ in [\"obl\", \"nmod\"]:\n",
    "        cc = ' '.join([child.text for child in token.subtree])\n",
    "        print(\"Complément circonstanciel :\", cc)"
   ]
  },
  {
   "cell_type": "markdown",
   "id": "fb963246",
   "metadata": {},
   "source": [
    "# Étape 4 : Extraire les relations \"qui fait quoi\""
   ]
  },
  {
   "cell_type": "code",
   "execution_count": 14,
   "id": "836462bd",
   "metadata": {},
   "outputs": [
    {
     "name": "stdout",
     "output_type": "stream",
     "text": [
      "Relations (qui fait quoi) : [('médecin', 'prescrit', 'antibiotiques')]\n"
     ]
    }
   ],
   "source": [
    "relations = []\n",
    "for token in doc:\n",
    "    if token.dep_ == \"ROOT\":\n",
    "        sujet = [child.text for child in token.children if child.dep_ == \"nsubj\"]\n",
    "        # On accepte \"obj\" ou \"obl:arg\" comme objet direct potentiel\n",
    "        objet = [child.text for child in token.children if child.dep_ in [\"obj\", \"obl:arg\"]]\n",
    "        if sujet and objet:\n",
    "            relations.append((sujet[0], token.text, objet[0]))\n",
    "\n",
    "print(\"Relations (qui fait quoi) :\", relations)"
   ]
  },
  {
   "cell_type": "markdown",
   "id": "dc817d9c",
   "metadata": {},
   "source": [
    "Cela signifie :\n",
    "\n",
    "* **Le sujet** est **« médecin »** ➔ c’est celui qui fait l’action.\n",
    "* **Le verbe** est **« prescrit »** ➔ c’est l’action réalisée.\n",
    "* **L’objet** est **« antibiotiques »** ➔ c’est ce qui reçoit l’action.\n",
    "\n",
    "---\n",
    "\n",
    "### Donc, on peut reformuler la relation comme :\n",
    "\n",
    "> **Le médecin** (sujet) **prescrit** (verbe) **des antibiotiques** (objet).\n",
    "\n",
    "Autrement dit :\n",
    "\n",
    "> C’est le médecin qui fait l’action de prescrire, et les antibiotiques sont ce qu’il prescrit."
   ]
  },
  {
   "cell_type": "markdown",
   "id": "e6b7f1dc",
   "metadata": {},
   "source": [
    "# Étape 5 : Tester avec une autre langue (anglais)"
   ]
  },
  {
   "cell_type": "markdown",
   "id": "a97e7407",
   "metadata": {},
   "source": [
    "## 5.1 Charger le texte avec spaCy"
   ]
  },
  {
   "cell_type": "code",
   "execution_count": 16,
   "id": "c34be147",
   "metadata": {},
   "outputs": [],
   "source": [
    "# Charger le modèle anglais\n",
    "nlp_en = spacy.load(\"en_core_web_sm\")\n",
    "\n",
    "# Texte anglais\n",
    "texte_en = \"The doctor prescribes antibiotics to the feverish patient after the diagnosis.\"\n",
    "\n",
    "# Traitement\n",
    "doc_en = nlp_en(texte_en)"
   ]
  },
  {
   "cell_type": "markdown",
   "id": "4967e8f9",
   "metadata": {},
   "source": [
    "## 5.2 Afficher POS et dépendances pour chaque mot"
   ]
  },
  {
   "cell_type": "code",
   "execution_count": 17,
   "id": "d04a6a17",
   "metadata": {},
   "outputs": [
    {
     "name": "stdout",
     "output_type": "stream",
     "text": [
      "The             POS: DET        Dépendance: det\n",
      "doctor          POS: NOUN       Dépendance: nsubj\n",
      "prescribes      POS: VERB       Dépendance: ROOT\n",
      "antibiotics     POS: NOUN       Dépendance: dobj\n",
      "to              POS: ADP        Dépendance: prep\n",
      "the             POS: DET        Dépendance: det\n",
      "feverish        POS: ADJ        Dépendance: amod\n",
      "patient         POS: NOUN       Dépendance: pobj\n",
      "after           POS: ADP        Dépendance: prep\n",
      "the             POS: DET        Dépendance: det\n",
      "diagnosis       POS: NOUN       Dépendance: pobj\n",
      ".               POS: PUNCT      Dépendance: punct\n"
     ]
    }
   ],
   "source": [
    "# Affichage POS et dépendances\n",
    "for token in doc_en:\n",
    "    print(f\"{token.text:<15} POS: {token.pos_:<10} Dépendance: {token.dep_}\")"
   ]
  },
  {
   "cell_type": "markdown",
   "id": "f1099ba3",
   "metadata": {},
   "source": [
    "## 5.3 Trouver les éléments clés"
   ]
  },
  {
   "cell_type": "markdown",
   "id": "53dd0fa7",
   "metadata": {},
   "source": [
    "### a. Le verbe principal"
   ]
  },
  {
   "cell_type": "code",
   "execution_count": 18,
   "id": "3fe6b0fa",
   "metadata": {},
   "outputs": [
    {
     "name": "stdout",
     "output_type": "stream",
     "text": [
      "Verbe principal : prescribes\n"
     ]
    }
   ],
   "source": [
    "for token in doc_en:\n",
    "    if token.dep_ == \"ROOT\":\n",
    "        print(\"Verbe principal :\", token.text)"
   ]
  },
  {
   "cell_type": "markdown",
   "id": "27e1069c",
   "metadata": {},
   "source": [
    "### b. Son sujet"
   ]
  },
  {
   "cell_type": "code",
   "execution_count": 20,
   "id": "6b49faf2",
   "metadata": {},
   "outputs": [
    {
     "name": "stdout",
     "output_type": "stream",
     "text": [
      "Sujet : doctor\n"
     ]
    }
   ],
   "source": [
    "for token in doc_en:\n",
    "    if token.dep_ == \"nsubj\":\n",
    "        print(\"Sujet :\", token.text)"
   ]
  },
  {
   "cell_type": "markdown",
   "id": "9bf8102f",
   "metadata": {},
   "source": [
    "### c. Son objet direct"
   ]
  },
  {
   "cell_type": "code",
   "execution_count": 23,
   "id": "1a5f684c",
   "metadata": {},
   "outputs": [
    {
     "name": "stdout",
     "output_type": "stream",
     "text": [
      "Direct object: antibiotics\n"
     ]
    }
   ],
   "source": [
    "for token in doc_en:\n",
    "    if token.dep_ == \"dobj\":  # Direct object dependency tag in spaCy\n",
    "        print(f\"Direct object: {token.text}\")"
   ]
  },
  {
   "cell_type": "code",
   "execution_count": 25,
   "id": "b02d2e48",
   "metadata": {},
   "outputs": [
    {
     "name": "stdout",
     "output_type": "stream",
     "text": [
      "Compléments circonstanciels :\n",
      "- to the feverish patient\n",
      "- after the diagnosis\n"
     ]
    }
   ],
   "source": [
    "complements = []\n",
    "\n",
    "for token in doc_en:\n",
    "    # Identifier les prépositions (pour les compléments circonstanciels de lieu, temps, etc.)\n",
    "    if token.dep_ == \"prep\":\n",
    "        # Extraire la phrase prépositionnelle complète (ex: \"to the feverish patient\")\n",
    "        phrase = \" \".join([t.text for t in token.subtree])\n",
    "        complements.append(phrase)\n",
    "    # Identifier les adverbes simples (ex: \"quickly\", \"yesterday\")\n",
    "    elif token.dep_ in [\"advmod\", \"npadvmod\"]:\n",
    "        complements.append(token.text)\n",
    "\n",
    "# Afficher les résultats\n",
    "print(\"Compléments circonstanciels :\")\n",
    "for comp in set(complements):  # Éviter les doublons\n",
    "    print(f\"- {comp}\")"
   ]
  },
  {
   "cell_type": "markdown",
   "id": "b33490df",
   "metadata": {},
   "source": [
    "## 5.4 Extraire les relations \"qui fait quoi\""
   ]
  },
  {
   "cell_type": "code",
   "execution_count": 24,
   "id": "90bd738e",
   "metadata": {},
   "outputs": [
    {
     "name": "stdout",
     "output_type": "stream",
     "text": [
      "Relations (qui fait quoi) : [('doctor', 'prescribes', 'antibiotics')]\n"
     ]
    }
   ],
   "source": [
    "relations = []\n",
    "for token in doc_en:\n",
    "    if token.dep_ == \"ROOT\":\n",
    "        sujet = [child.text for child in token.children if child.dep_ == \"nsubj\"]\n",
    "        # On accepte \"obj\" ou \"obl:arg\" comme objet direct potentiel\n",
    "        objet = [child.text for child in token.children if child.dep_ in ['dobj']]\n",
    "        if sujet and objet:\n",
    "            relations.append((sujet[0], token.text, objet[0]))\n",
    "\n",
    "print(\"Relations (qui fait quoi) :\", relations)"
   ]
  },
  {
   "cell_type": "code",
   "execution_count": null,
   "id": "13e64581",
   "metadata": {},
   "outputs": [],
   "source": []
  }
 ],
 "metadata": {
  "kernelspec": {
   "display_name": "Python 3 (ipykernel)",
   "language": "python",
   "name": "python3"
  },
  "language_info": {
   "codemirror_mode": {
    "name": "ipython",
    "version": 3
   },
   "file_extension": ".py",
   "mimetype": "text/x-python",
   "name": "python",
   "nbconvert_exporter": "python",
   "pygments_lexer": "ipython3",
   "version": "3.11.5"
  }
 },
 "nbformat": 4,
 "nbformat_minor": 5
}
