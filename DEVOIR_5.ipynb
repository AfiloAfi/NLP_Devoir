{
 "cells": [
  {
   "cell_type": "markdown",
   "id": "12b8ef49",
   "metadata": {},
   "source": [
    "<div style=\"text-align: center;\">\n",
    "    <h1> <strong>Nom et Prénom : Laakel Gauzi Soumaya</strong> </h1>\n",
    "    <h3><strong>Module : NATURAL LANGUAGE PROCESSING (NLP)</strong></h3>\n",
    "    <h4><em>MST IASD/S1 2024-2025</em></h4>\n",
    "    <hr>\n",
    "    <h2><strong>DEVOIR 5 : ANALYSE SYNTAXIQUE DE COMPTES-RENDUS MÉDICAUX</strong></h2>\n",
    "    <p><i>L’objectif du Devoir 5 est de développer un système d’analyse automatique de comptes-rendus médicaux non structurés, dans un contexte hospitalier. Ce devoir vise à extraire des relations pertinentes entre les patients, les symptômes et les traitements à partir de textes cliniques rédigés en langage naturel. Pour cela, il s’appuie sur des techniques de traitement automatique du langage naturel (TALN), notamment le POS tagging, l’analyse des dépendances grammaticales, l’identification des relations sujet-verbe-objet, ainsi que la détection des négations. L’enjeu principal est de structurer l’information médicale afin de faciliter son exploitation pour des analyses ultérieures, des aides au diagnostic, ou des applications en santé numérique.</i></p>\n",
    "</div>"
   ]
  },
  {
   "cell_type": "markdown",
   "id": "8324ab8a",
   "metadata": {},
   "source": [
    "# Partie 1 : POS Tagging Médical"
   ]
  },
  {
   "cell_type": "markdown",
   "id": "3bf94ea1",
   "metadata": {},
   "source": [
    "## Étape 1 : Chargement du modèle et du texte"
   ]
  },
  {
   "cell_type": "code",
   "execution_count": 1,
   "id": "d99d634d",
   "metadata": {},
   "outputs": [],
   "source": [
    "import spacy\n",
    "\n",
    "# charge le modèle français de spaCy\n",
    "nlp = spacy.load(\"fr_core_news_sm\")\n",
    "\n",
    "# le texte médical\n",
    "texte = \"La patiente âgée de 65 ans présente une toux persistante et une fièvre à 38.5°C. Le médecin prescrit de l'amoxicilline 500mg 3x/jour.\"\n",
    "doc = nlp(texte)"
   ]
  },
  {
   "cell_type": "markdown",
   "id": "695ba23d",
   "metadata": {},
   "source": [
    "## Étape 2 : Affichage des tokens avec POS, lemme, dépendance"
   ]
  },
  {
   "cell_type": "code",
   "execution_count": 2,
   "id": "04b3920a",
   "metadata": {},
   "outputs": [
    {
     "name": "stdout",
     "output_type": "stream",
     "text": [
      "La              | POS: DET        | Lemma: le              | Dépendance: det\n",
      "patiente        | POS: NOUN       | Lemma: patient         | Dépendance: nsubj\n",
      "âgée            | POS: VERB       | Lemma: âger            | Dépendance: acl\n",
      "de              | POS: ADP        | Lemma: de              | Dépendance: case\n",
      "65              | POS: NUM        | Lemma: 65              | Dépendance: nummod\n",
      "ans             | POS: NOUN       | Lemma: an              | Dépendance: obl:arg\n",
      "présente        | POS: VERB       | Lemma: présente        | Dépendance: ROOT\n",
      "une             | POS: DET        | Lemma: un              | Dépendance: det\n",
      "toux            | POS: ADP        | Lemma: toux            | Dépendance: case\n",
      "persistante     | POS: NOUN       | Lemma: persistante     | Dépendance: obj\n",
      "et              | POS: CCONJ      | Lemma: et              | Dépendance: cc\n",
      "une             | POS: DET        | Lemma: un              | Dépendance: det\n",
      "fièvre          | POS: NOUN       | Lemma: fièvre          | Dépendance: conj\n",
      "à               | POS: ADP        | Lemma: à               | Dépendance: case\n",
      "38.5            | POS: NOUN       | Lemma: 38.5            | Dépendance: nmod\n",
      "°               | POS: NOUN       | Lemma: degré           | Dépendance: nmod\n",
      "C               | POS: NOUN       | Lemma: c               | Dépendance: nmod\n",
      ".               | POS: PUNCT      | Lemma: .               | Dépendance: punct\n",
      "Le              | POS: DET        | Lemma: le              | Dépendance: det\n",
      "médecin         | POS: NOUN       | Lemma: médecin         | Dépendance: nsubj\n",
      "prescrit        | POS: ADJ        | Lemma: prescrire       | Dépendance: ROOT\n",
      "de              | POS: ADP        | Lemma: de              | Dépendance: case\n",
      "l'              | POS: DET        | Lemma: le              | Dépendance: det\n",
      "amoxicilline    | POS: NOUN       | Lemma: amoxicilline    | Dépendance: obl:arg\n",
      "500             | POS: NUM        | Lemma: 500             | Dépendance: nummod\n",
      "mg              | POS: NOUN       | Lemma: milligramme     | Dépendance: obj\n",
      "3x              | POS: ADJ        | Lemma: 3x              | Dépendance: nmod\n",
      "/               | POS: SYM        | Lemma: /               | Dépendance: case\n",
      "jour            | POS: NOUN       | Lemma: jour            | Dépendance: nmod\n",
      ".               | POS: PUNCT      | Lemma: .               | Dépendance: punct\n"
     ]
    }
   ],
   "source": [
    "# Je parcours chaque mot et j'affiche les informations importantes\n",
    "for token in doc:\n",
    "    print(f\"{token.text:<15} | POS: {token.pos_:<10} | Lemma: {token.lemma_:<15} | Dépendance: {token.dep_}\")"
   ]
  },
  {
   "cell_type": "markdown",
   "id": "02f8a468",
   "metadata": {},
   "source": [
    "### **Analyse phrase par phrase :**\n",
    "\n",
    "#### **1.** *\"La patiente âgée de 65 ans présente une toux persistante et une fièvre à 38.5°C.\"*\n",
    "\n",
    "* **La** (DET) est un **déterminant** qui détermine **patiente**.\n",
    "* **patiente** (NOUN) est le **sujet grammatical** (`nsubj`) du verbe **présente**.\n",
    "* **âgée** (VERB, lemma \"âger\", mais interprété comme adjectif verbal) exprime une caractéristique de la patiente — c’est une **subordonnée relative ou un complément du nom** (`acl` pour *adjectival clause*).\n",
    "* **de 65 ans** est une construction prépositionnelle :\n",
    "\n",
    "  * **de** introduit la relation,\n",
    "  * **65** (NUM) est le **modificateur numérique** de **ans**,\n",
    "  * **ans** (NOUN) est un **complément circonstanciel de temps ou d'âge** (`obl:arg`).\n",
    "* **présente** est le **verbe principal** de la phrase, identifié comme **racine** syntaxique (`ROOT`).\n",
    "* **une toux persistante et une fièvre à 38.5°C** est le **complément d’objet direct** (`obj`) du verbe :\n",
    "\n",
    "  * **toux** est erronément tagué comme ADP, mais devrait être un nom.\n",
    "  * **persistante** est le qualificatif (adjectif) associé à **toux**.\n",
    "  * **fièvre** est en coordination avec **toux** (`conj`) introduite par **et** (`cc`).\n",
    "  * **à 38.5°C** est un **complément de mesure** attaché à **fièvre**, avec **nmod** (modificateur nominal).\n",
    "\n",
    "---\n",
    "\n",
    "#### **2.** *\"Le médecin prescrit de l'amoxicilline 500 mg 3x/jour.\"*\n",
    "\n",
    "* **Le médecin** (DET + NOUN) est le **sujet** (`nsubj`).\n",
    "* **prescrit** est analysé comme un ADJ à tort (probable erreur), mais devrait être un **verbe racine** (`ROOT`) signifiant l’action principale.\n",
    "* **de l'amoxicilline** est un **complément introduit par préposition** (`obl:arg`) :\n",
    "\n",
    "  * **de** est la préposition,\n",
    "  * **l'** est le déterminant,\n",
    "  * **amoxicilline** est le **nom du médicament**.\n",
    "* **500 mg** est la **posologie** :\n",
    "\n",
    "  * **500** (NUM) est le **modificateur** de **mg**,\n",
    "  * **mg** (milligrammes) est un **objet direct** (`obj`) lié à l’action de prescrire.\n",
    "* **3x/jour** est un **complément de fréquence** ou de dosage :\n",
    "\n",
    "  * **3x** est l’adjectif modifiant la fréquence,\n",
    "  * **jour** est le **nom modifié** (`nmod`), et **/** est traité comme un séparateur symbolique.\n",
    "\n",
    "---\n",
    "\n",
    "### **Problèmes Identifiés :**\n",
    "\n",
    "* L’analyse contient **quelques erreurs de POS tagging**, notamment :\n",
    "\n",
    "  * \"toux\" → tagué comme ADP (préposition) au lieu de NOUN.\n",
    "  * \"prescrit\" → identifié comme ADJ au lieu de VERB.\n",
    "  * Tokenisation de \"38.5°C\" :\n",
    "    - Séparé en 38.5, °, C → devrait être traité comme une entité unique (température).\n",
    "  * Tokenisation de \"3x/jour\" :\n",
    "    - Séparé en 3x, /, jour → devrait être une entité unique (posologie). "
   ]
  },
  {
   "cell_type": "markdown",
   "id": "94636d2c",
   "metadata": {},
   "source": [
    "## Étape 3 : Corriger la tokenisation"
   ]
  },
  {
   "cell_type": "code",
   "execution_count": 3,
   "id": "aaf59b94",
   "metadata": {},
   "outputs": [
    {
     "name": "stdout",
     "output_type": "stream",
     "text": [
      "Avant correction :\n",
      "['La', 'patiente', 'âgée', 'de', '65', 'ans', 'présente', 'une', 'toux', 'persistante', 'et', 'une', 'fièvre', 'à', '38.5', '°', 'C', '.', 'Le', 'médecin', 'prescrit', 'de', \"l'\", 'amoxicilline', '500', 'mg', '3x', '/', 'jour', '.']\n",
      "\n",
      "Après correction :\n",
      "['La', 'patiente', 'âgée', 'de', '65', 'ans', 'présente', 'une', 'toux', 'persistante', 'et', 'une', 'fièvre', 'à', '38.5°C', '.', 'Le', 'médecin', 'prescrit', 'de', \"l'\", 'amoxicilline', '500mg', '3x/jour', '.']\n",
      "La -> ent_type: \n",
      "patiente -> ent_type: \n",
      "âgée -> ent_type: \n",
      "de -> ent_type: \n",
      "65 -> ent_type: \n",
      "ans -> ent_type: \n",
      "présente -> ent_type: \n",
      "une -> ent_type: \n",
      "toux -> ent_type: \n",
      "persistante -> ent_type: \n",
      "et -> ent_type: \n",
      "une -> ent_type: \n",
      "fièvre -> ent_type: \n",
      "à -> ent_type: \n",
      "38.5°C -> ent_type: TEMPÉRATURE\n",
      ". -> ent_type: \n",
      "Le -> ent_type: \n",
      "médecin -> ent_type: \n",
      "prescrit -> ent_type: \n",
      "de -> ent_type: \n",
      "l' -> ent_type: \n",
      "amoxicilline -> ent_type: \n",
      "500mg -> ent_type: DOSE\n",
      "3x/jour -> ent_type: POSOLOGIE\n",
      ". -> ent_type: \n"
     ]
    }
   ],
   "source": [
    "import spacy\n",
    "from spacy.tokens import Span\n",
    "\n",
    "# Afficher les tokens initiaux\n",
    "print(\"Avant correction :\")\n",
    "print([token.text for token in doc])\n",
    "\n",
    "# Retokenization\n",
    "with doc.retokenize() as retokenizer:\n",
    "    # Fusionner \"38.5\", \"°\", \"C\" s'ils existent\n",
    "    for i in range(len(doc) - 2):\n",
    "        if doc[i].text == \"38.5\" and doc[i+1].text == \"°\" and doc[i+2].text.lower() == \"c\":\n",
    "            span_temp = doc[i:i+3]\n",
    "            retokenizer.merge(span_temp, attrs={\"ent_type\": \"TEMPÉRATURE\"})\n",
    "\n",
    "    # Fusionner \"3x\", \"/\", \"jour\"\n",
    "    for i in range(len(doc) - 2):\n",
    "        if doc[i].text == \"3x\" and doc[i+1].text == \"/\" and doc[i+2].text.lower() == \"jour\":\n",
    "            span_poso = doc[i:i+3]\n",
    "            retokenizer.merge(span_poso, attrs={\"ent_type\": \"POSOLOGIE\"})\n",
    "\n",
    "    # Fusionner les doses comme \"500\" + \"mg\"\n",
    "    for i in range(len(doc) - 1):\n",
    "        if doc[i].like_num and doc[i+1].text.lower() in [\"mg\", \"g\", \"ml\"]:\n",
    "            span_dose = doc[i:i+2]\n",
    "            retokenizer.merge(span_dose, attrs={\"ent_type\": \"DOSE\"})\n",
    "\n",
    "# Afficher les tokens après correction\n",
    "print(\"\\nAprès correction :\")\n",
    "print([token.text for token in doc])\n",
    "\n",
    "# Afficher les types d'entités (si définis)\n",
    "for token in doc:\n",
    "    print(f\"{token.text} -> ent_type: {token.ent_type_}\")\n"
   ]
  },
  {
   "cell_type": "code",
   "execution_count": 4,
   "id": "c521b0f3",
   "metadata": {},
   "outputs": [
    {
     "name": "stdout",
     "output_type": "stream",
     "text": [
      "La              | POS: DET        | Lemma: le              | Dépendance: det\n",
      "patiente        | POS: NOUN       | Lemma: patient         | Dépendance: nsubj\n",
      "âgée            | POS: VERB       | Lemma: âger            | Dépendance: acl\n",
      "de              | POS: ADP        | Lemma: de              | Dépendance: case\n",
      "65              | POS: NUM        | Lemma: 65              | Dépendance: nummod\n",
      "ans             | POS: NOUN       | Lemma: an              | Dépendance: obl:arg\n",
      "présente        | POS: VERB       | Lemma: présente        | Dépendance: ROOT\n",
      "une             | POS: DET        | Lemma: un              | Dépendance: det\n",
      "toux            | POS: ADP        | Lemma: toux            | Dépendance: case\n",
      "persistante     | POS: NOUN       | Lemma: persistante     | Dépendance: obj\n",
      "et              | POS: CCONJ      | Lemma: et              | Dépendance: cc\n",
      "une             | POS: DET        | Lemma: un              | Dépendance: det\n",
      "fièvre          | POS: NOUN       | Lemma: fièvre          | Dépendance: conj\n",
      "à               | POS: ADP        | Lemma: à               | Dépendance: case\n",
      "38.5°C          | POS: NOUN       | Lemma: 38.5degréc      | Dépendance: nmod\n",
      ".               | POS: PUNCT      | Lemma: .               | Dépendance: punct\n",
      "Le              | POS: DET        | Lemma: le              | Dépendance: det\n",
      "médecin         | POS: NOUN       | Lemma: médecin         | Dépendance: nsubj\n",
      "prescrit        | POS: ADJ        | Lemma: prescrire       | Dépendance: ROOT\n",
      "de              | POS: ADP        | Lemma: de              | Dépendance: case\n",
      "l'              | POS: DET        | Lemma: le              | Dépendance: det\n",
      "amoxicilline    | POS: NOUN       | Lemma: amoxicilline    | Dépendance: obl:arg\n",
      "500mg           | POS: NOUN       | Lemma: 500milligramme  | Dépendance: obj\n",
      "3x/jour         | POS: ADJ        | Lemma: 3x/jour         | Dépendance: nmod\n",
      ".               | POS: PUNCT      | Lemma: .               | Dépendance: punct\n"
     ]
    }
   ],
   "source": [
    "# Je parcours chaque mot et j'affiche les informations importantes\n",
    "for token in doc:\n",
    "    print(f\"{token.text:<15} | POS: {token.pos_:<10} | Lemma: {token.lemma_:<15} | Dépendance: {token.dep_}\")"
   ]
  },
  {
   "cell_type": "markdown",
   "id": "acaa0bbe",
   "metadata": {},
   "source": [
    "## Étape 4 : Filtrage par Catégories"
   ]
  },
  {
   "cell_type": "markdown",
   "id": "c6aa1f95",
   "metadata": {},
   "source": [
    "### 4.1 Symptômes (noms + adjectifs) :"
   ]
  },
  {
   "cell_type": "code",
   "execution_count": 5,
   "id": "a6442e4a",
   "metadata": {},
   "outputs": [
    {
     "name": "stdout",
     "output_type": "stream",
     "text": [
      "Symptômes : ['une toux persistante', 'une fièvre']\n"
     ]
    }
   ],
   "source": [
    "symptomes = []\n",
    "for chunk in doc.noun_chunks:\n",
    "    if \"toux\" in chunk.text or \"fièvre\" in chunk.text:  # Adapter avec des termes médicaux\n",
    "        symptomes.append(chunk.text)\n",
    "print(\"Symptômes :\", symptomes)"
   ]
  },
  {
   "cell_type": "markdown",
   "id": "0bbdeaca",
   "metadata": {},
   "source": [
    "### 4.2 Traitements (verbes + médicaments) :"
   ]
  },
  {
   "cell_type": "code",
   "execution_count": 6,
   "id": "84b400c3",
   "metadata": {},
   "outputs": [
    {
     "name": "stdout",
     "output_type": "stream",
     "text": [
      "Traitements : [\"de l' amoxicilline\", '500mg 3x/jour']\n"
     ]
    }
   ],
   "source": [
    "traitements = []\n",
    "for token in doc:\n",
    "    # Identifier le verbe \"prescrire\" (lemme) et vérifier qu'il est racine\n",
    "    if token.lemma_ == \"prescrire\" and token.dep_ == \"ROOT\":\n",
    "        # Parcourir ses enfants (objets, compléments obliques)\n",
    "        for child in token.children:\n",
    "            # Inclure obj, nmod, et tous les sous-types de obl (ex: obl:arg)\n",
    "            if child.dep_ in (\"obj\", \"nmod\") or child.dep_.startswith(\"obl\"):\n",
    "                # Extraire le sous-arbre complet du complément (ex: \"amoxicilline 500mg 3x/jour\")\n",
    "                traitement_span = child.subtree\n",
    "                # Convertir en texte\n",
    "                traitement = \" \".join([t.text for t in traitement_span])\n",
    "                traitements.append(traitement)\n",
    "\n",
    "print(\"Traitements :\", traitements)"
   ]
  },
  {
   "cell_type": "markdown",
   "id": "86af6a31",
   "metadata": {},
   "source": [
    "# Partie 2 : Extraction de Relations"
   ]
  },
  {
   "cell_type": "markdown",
   "id": "ffd53572",
   "metadata": {},
   "source": [
    "## Étape 1 : Fonction pour extraire Sujet-Verbe-Objet"
   ]
  },
  {
   "cell_type": "code",
   "execution_count": 7,
   "id": "c7c09496",
   "metadata": {},
   "outputs": [],
   "source": [
    "def extraire_relations(phrase):\n",
    "    doc = nlp(phrase)\n",
    "    relations = []\n",
    "\n",
    "    for token in doc:\n",
    "        # Cas 1 : Sujet explicite (nsubj) + verbe + objet\n",
    "        if token.dep_ in (\"nsubj\", \"expl:subj\") and token.head.pos_ == \"VERB\":\n",
    "            verbe = token.head\n",
    "            # Recherche de l'objet direct ou indirect du verbe\n",
    "            obj_direct = [child for child in verbe.children if child.dep_ in (\"obj\", \"obl:arg\", \"xcomp\")]\n",
    "            \n",
    "            # Si le verbe a un complément clausal (ex: \"faut prescrire\")\n",
    "            for child in verbe.children:\n",
    "                if child.dep_ == \"xcomp\":\n",
    "                    # Recherche de l'objet du complément clausal\n",
    "                    obj_xcomp = [c for c in child.children if c.dep_ in (\"obj\", \"obl:arg\")]\n",
    "                    if obj_xcomp:\n",
    "                        relations.append((token.text, verbe.text, obj_xcomp[0].text))\n",
    "            \n",
    "            # Ajout de l'objet direct du verbe principal\n",
    "            if obj_direct:\n",
    "                relations.append((token.text, verbe.text, obj_direct[0].text))\n",
    "\n",
    "        # 2. Cause : \"en raison de X\" → (\"X\", \"raison\", verbe principal)\n",
    "        if token.text.lower() == \"raison\":\n",
    "            # Vérifie si le token précédent est \"en\"\n",
    "            idx = token.i\n",
    "            if idx > 0 and doc[idx - 1].text.lower() == \"en\":\n",
    "                # Cherche le mot après \"de\"\n",
    "                for child in token.children:\n",
    "                    if child.dep_ == \"nmod\" or child.dep_ == \"obl\":\n",
    "                        cause = child.text\n",
    "                        # le verbe est l'ancêtre le plus haut dans la phrase\n",
    "                        verb = token.head\n",
    "                        while verb.head != verb:\n",
    "                            verb = verb.head\n",
    "                        relations.append((cause, \"raison\", verb.text))\n",
    "\n",
    "    return relations"
   ]
  },
  {
   "cell_type": "code",
   "execution_count": 8,
   "id": "baa6e7e5",
   "metadata": {},
   "outputs": [
    {
     "name": "stdout",
     "output_type": "stream",
     "text": [
      "[('médecin', 'arrête', 'aspirine'), ('saignements', 'raison', 'arrête')]\n"
     ]
    }
   ],
   "source": [
    "phrase = \"Le médecin arrête l'aspirine en raison de saignements.\"\n",
    "print(extraire_relations(phrase))"
   ]
  },
  {
   "cell_type": "markdown",
   "id": "5a53dec8",
   "metadata": {},
   "source": [
    "## Étape 2 : Gestion des négations"
   ]
  },
  {
   "cell_type": "code",
   "execution_count": 9,
   "id": "4a1e4feb",
   "metadata": {},
   "outputs": [],
   "source": [
    "def extraire_relations_neg(phrase):\n",
    "    doc = nlp(phrase)\n",
    "    relations = []\n",
    "\n",
    "    # Cas 1 : Structure avec verbe principal + négation\n",
    "    for token in doc:\n",
    "        if token.dep_ in (\"obj\", \"obl\") and token.head.pos_ == \"VERB\":\n",
    "            # Trouver le sujet\n",
    "            sujet = [w for w in token.head.lefts if w.dep_ in (\"nsubj\", \"expl:subj\")]\n",
    "            # Détecter les négations\n",
    "            negations = [w for w in token.head.children if w.dep_ == \"neg\" or w.text.lower() in (\"ne\", \"pas\")]\n",
    "            \n",
    "            if sujet and negations:\n",
    "                verbe_form = f\"NE PAS {token.head.lemma_}\"\n",
    "                relations.append((sujet[0].text, verbe_form, token.text))\n",
    "\n",
    "    # Cas 2 : Structure \"falloir\" + infinitif + négation\n",
    "    for token in doc:\n",
    "        if token.lemma_ == \"falloir\":\n",
    "            # Vérifier la négation au niveau de \"falloir\"\n",
    "            neg_falloir = any(w.text.lower() in (\"ne\", \"pas\") for w in token.head.children)\n",
    "            \n",
    "            # Chercher les verbes à l'infinitif dépendants de \"falloir\"\n",
    "            for child in token.children:\n",
    "                if child.dep_ == \"xcomp\" and child.pos_ == \"VERB\":\n",
    "                    # Chercher l'objet de l'infinitif\n",
    "                    for obj in child.children:\n",
    "                        if obj.dep_ in (\"obj\", \"obl\"):\n",
    "                            if neg_falloir:\n",
    "                                relations.append((\"—\", f\"NE PAS {child.lemma_}\", obj.text))\n",
    "\n",
    "    # Cas 3 : Forme \"Pas de X\" (négation sans verbe explicite)\n",
    "    for token in doc:\n",
    "        if token.text.lower() == \"pas\":\n",
    "            for child in token.children:\n",
    "                if child.dep_ in (\"obj\", \"nmod\"):\n",
    "                    relations.append((\"—\", \"NE PAS utiliser\", child.text))\n",
    "\n",
    "    return relations"
   ]
  },
  {
   "cell_type": "code",
   "execution_count": 10,
   "id": "10afc2da",
   "metadata": {},
   "outputs": [
    {
     "name": "stdout",
     "output_type": "stream",
     "text": [
      "[('médecin', 'NE PAS prescrire', 'paracétamol')]\n"
     ]
    }
   ],
   "source": [
    "print(extraire_relations_neg(\"Le médecin ne prescrit pas de paracétamol.\"))"
   ]
  },
  {
   "cell_type": "markdown",
   "id": "2fb52b1d",
   "metadata": {},
   "source": [
    "# Partie 3 : Analyse de Dépendances"
   ]
  },
  {
   "cell_type": "markdown",
   "id": "e3f75e1b",
   "metadata": {},
   "source": [
    "### Étape 1 : Visualisation avec displaCy"
   ]
  },
  {
   "cell_type": "code",
   "execution_count": 11,
   "id": "6ab04a00",
   "metadata": {
    "scrolled": true
   },
   "outputs": [
    {
     "data": {
      "text/html": [
       "<span class=\"tex2jax_ignore\"><svg xmlns=\"http://www.w3.org/2000/svg\" xmlns:xlink=\"http://www.w3.org/1999/xlink\" xml:lang=\"fr\" id=\"bf35a7badd14497fba7fe06319e3fcbe-0\" class=\"displacy\" width=\"1625\" height=\"312.0\" direction=\"ltr\" style=\"max-width: none; height: 312.0px; color: #000000; background: #ffffff; font-family: Arial; direction: ltr\">\n",
       "<text class=\"displacy-token\" fill=\"currentColor\" text-anchor=\"middle\" y=\"222.0\">\n",
       "    <tspan class=\"displacy-word\" fill=\"currentColor\" x=\"50\">Après</tspan>\n",
       "    <tspan class=\"displacy-tag\" dy=\"2em\" fill=\"currentColor\" x=\"50\">ADP</tspan>\n",
       "</text>\n",
       "\n",
       "<text class=\"displacy-token\" fill=\"currentColor\" text-anchor=\"middle\" y=\"222.0\">\n",
       "    <tspan class=\"displacy-word\" fill=\"currentColor\" x=\"225\">analyse,</tspan>\n",
       "    <tspan class=\"displacy-tag\" dy=\"2em\" fill=\"currentColor\" x=\"225\">NOUN</tspan>\n",
       "</text>\n",
       "\n",
       "<text class=\"displacy-token\" fill=\"currentColor\" text-anchor=\"middle\" y=\"222.0\">\n",
       "    <tspan class=\"displacy-word\" fill=\"currentColor\" x=\"400\">le</tspan>\n",
       "    <tspan class=\"displacy-tag\" dy=\"2em\" fill=\"currentColor\" x=\"400\">DET</tspan>\n",
       "</text>\n",
       "\n",
       "<text class=\"displacy-token\" fill=\"currentColor\" text-anchor=\"middle\" y=\"222.0\">\n",
       "    <tspan class=\"displacy-word\" fill=\"currentColor\" x=\"575\">cardiologue</tspan>\n",
       "    <tspan class=\"displacy-tag\" dy=\"2em\" fill=\"currentColor\" x=\"575\">NOUN</tspan>\n",
       "</text>\n",
       "\n",
       "<text class=\"displacy-token\" fill=\"currentColor\" text-anchor=\"middle\" y=\"222.0\">\n",
       "    <tspan class=\"displacy-word\" fill=\"currentColor\" x=\"750\">recommande</tspan>\n",
       "    <tspan class=\"displacy-tag\" dy=\"2em\" fill=\"currentColor\" x=\"750\">VERB</tspan>\n",
       "</text>\n",
       "\n",
       "<text class=\"displacy-token\" fill=\"currentColor\" text-anchor=\"middle\" y=\"222.0\">\n",
       "    <tspan class=\"displacy-word\" fill=\"currentColor\" x=\"925\">un</tspan>\n",
       "    <tspan class=\"displacy-tag\" dy=\"2em\" fill=\"currentColor\" x=\"925\">DET</tspan>\n",
       "</text>\n",
       "\n",
       "<text class=\"displacy-token\" fill=\"currentColor\" text-anchor=\"middle\" y=\"222.0\">\n",
       "    <tspan class=\"displacy-word\" fill=\"currentColor\" x=\"1100\">scanner</tspan>\n",
       "    <tspan class=\"displacy-tag\" dy=\"2em\" fill=\"currentColor\" x=\"1100\">NOUN</tspan>\n",
       "</text>\n",
       "\n",
       "<text class=\"displacy-token\" fill=\"currentColor\" text-anchor=\"middle\" y=\"222.0\">\n",
       "    <tspan class=\"displacy-word\" fill=\"currentColor\" x=\"1275\">cardiaque</tspan>\n",
       "    <tspan class=\"displacy-tag\" dy=\"2em\" fill=\"currentColor\" x=\"1275\">ADJ</tspan>\n",
       "</text>\n",
       "\n",
       "<text class=\"displacy-token\" fill=\"currentColor\" text-anchor=\"middle\" y=\"222.0\">\n",
       "    <tspan class=\"displacy-word\" fill=\"currentColor\" x=\"1450\">immédiat.</tspan>\n",
       "    <tspan class=\"displacy-tag\" dy=\"2em\" fill=\"currentColor\" x=\"1450\">ADJ</tspan>\n",
       "</text>\n",
       "\n",
       "<g class=\"displacy-arrow\">\n",
       "    <path class=\"displacy-arc\" id=\"arrow-bf35a7badd14497fba7fe06319e3fcbe-0-0\" stroke-width=\"2px\" d=\"M70,177.0 C70,89.5 220.0,89.5 220.0,177.0\" fill=\"none\" stroke=\"currentColor\"/>\n",
       "    <text dy=\"1.25em\" style=\"font-size: 0.8em; letter-spacing: 1px\">\n",
       "        <textPath xlink:href=\"#arrow-bf35a7badd14497fba7fe06319e3fcbe-0-0\" class=\"displacy-label\" startOffset=\"50%\" side=\"left\" fill=\"currentColor\" text-anchor=\"middle\">case</textPath>\n",
       "    </text>\n",
       "    <path class=\"displacy-arrowhead\" d=\"M70,179.0 L62,167.0 78,167.0\" fill=\"currentColor\"/>\n",
       "</g>\n",
       "\n",
       "<g class=\"displacy-arrow\">\n",
       "    <path class=\"displacy-arc\" id=\"arrow-bf35a7badd14497fba7fe06319e3fcbe-0-1\" stroke-width=\"2px\" d=\"M245,177.0 C245,2.0 750.0,2.0 750.0,177.0\" fill=\"none\" stroke=\"currentColor\"/>\n",
       "    <text dy=\"1.25em\" style=\"font-size: 0.8em; letter-spacing: 1px\">\n",
       "        <textPath xlink:href=\"#arrow-bf35a7badd14497fba7fe06319e3fcbe-0-1\" class=\"displacy-label\" startOffset=\"50%\" side=\"left\" fill=\"currentColor\" text-anchor=\"middle\">obl:mod</textPath>\n",
       "    </text>\n",
       "    <path class=\"displacy-arrowhead\" d=\"M245,179.0 L237,167.0 253,167.0\" fill=\"currentColor\"/>\n",
       "</g>\n",
       "\n",
       "<g class=\"displacy-arrow\">\n",
       "    <path class=\"displacy-arc\" id=\"arrow-bf35a7badd14497fba7fe06319e3fcbe-0-2\" stroke-width=\"2px\" d=\"M420,177.0 C420,89.5 570.0,89.5 570.0,177.0\" fill=\"none\" stroke=\"currentColor\"/>\n",
       "    <text dy=\"1.25em\" style=\"font-size: 0.8em; letter-spacing: 1px\">\n",
       "        <textPath xlink:href=\"#arrow-bf35a7badd14497fba7fe06319e3fcbe-0-2\" class=\"displacy-label\" startOffset=\"50%\" side=\"left\" fill=\"currentColor\" text-anchor=\"middle\">det</textPath>\n",
       "    </text>\n",
       "    <path class=\"displacy-arrowhead\" d=\"M420,179.0 L412,167.0 428,167.0\" fill=\"currentColor\"/>\n",
       "</g>\n",
       "\n",
       "<g class=\"displacy-arrow\">\n",
       "    <path class=\"displacy-arc\" id=\"arrow-bf35a7badd14497fba7fe06319e3fcbe-0-3\" stroke-width=\"2px\" d=\"M595,177.0 C595,89.5 745.0,89.5 745.0,177.0\" fill=\"none\" stroke=\"currentColor\"/>\n",
       "    <text dy=\"1.25em\" style=\"font-size: 0.8em; letter-spacing: 1px\">\n",
       "        <textPath xlink:href=\"#arrow-bf35a7badd14497fba7fe06319e3fcbe-0-3\" class=\"displacy-label\" startOffset=\"50%\" side=\"left\" fill=\"currentColor\" text-anchor=\"middle\">nsubj</textPath>\n",
       "    </text>\n",
       "    <path class=\"displacy-arrowhead\" d=\"M595,179.0 L587,167.0 603,167.0\" fill=\"currentColor\"/>\n",
       "</g>\n",
       "\n",
       "<g class=\"displacy-arrow\">\n",
       "    <path class=\"displacy-arc\" id=\"arrow-bf35a7badd14497fba7fe06319e3fcbe-0-4\" stroke-width=\"2px\" d=\"M945,177.0 C945,89.5 1095.0,89.5 1095.0,177.0\" fill=\"none\" stroke=\"currentColor\"/>\n",
       "    <text dy=\"1.25em\" style=\"font-size: 0.8em; letter-spacing: 1px\">\n",
       "        <textPath xlink:href=\"#arrow-bf35a7badd14497fba7fe06319e3fcbe-0-4\" class=\"displacy-label\" startOffset=\"50%\" side=\"left\" fill=\"currentColor\" text-anchor=\"middle\">det</textPath>\n",
       "    </text>\n",
       "    <path class=\"displacy-arrowhead\" d=\"M945,179.0 L937,167.0 953,167.0\" fill=\"currentColor\"/>\n",
       "</g>\n",
       "\n",
       "<g class=\"displacy-arrow\">\n",
       "    <path class=\"displacy-arc\" id=\"arrow-bf35a7badd14497fba7fe06319e3fcbe-0-5\" stroke-width=\"2px\" d=\"M770,177.0 C770,2.0 1100.0,2.0 1100.0,177.0\" fill=\"none\" stroke=\"currentColor\"/>\n",
       "    <text dy=\"1.25em\" style=\"font-size: 0.8em; letter-spacing: 1px\">\n",
       "        <textPath xlink:href=\"#arrow-bf35a7badd14497fba7fe06319e3fcbe-0-5\" class=\"displacy-label\" startOffset=\"50%\" side=\"left\" fill=\"currentColor\" text-anchor=\"middle\">obj</textPath>\n",
       "    </text>\n",
       "    <path class=\"displacy-arrowhead\" d=\"M1100.0,179.0 L1108.0,167.0 1092.0,167.0\" fill=\"currentColor\"/>\n",
       "</g>\n",
       "\n",
       "<g class=\"displacy-arrow\">\n",
       "    <path class=\"displacy-arc\" id=\"arrow-bf35a7badd14497fba7fe06319e3fcbe-0-6\" stroke-width=\"2px\" d=\"M1120,177.0 C1120,89.5 1270.0,89.5 1270.0,177.0\" fill=\"none\" stroke=\"currentColor\"/>\n",
       "    <text dy=\"1.25em\" style=\"font-size: 0.8em; letter-spacing: 1px\">\n",
       "        <textPath xlink:href=\"#arrow-bf35a7badd14497fba7fe06319e3fcbe-0-6\" class=\"displacy-label\" startOffset=\"50%\" side=\"left\" fill=\"currentColor\" text-anchor=\"middle\">amod</textPath>\n",
       "    </text>\n",
       "    <path class=\"displacy-arrowhead\" d=\"M1270.0,179.0 L1278.0,167.0 1262.0,167.0\" fill=\"currentColor\"/>\n",
       "</g>\n",
       "\n",
       "<g class=\"displacy-arrow\">\n",
       "    <path class=\"displacy-arc\" id=\"arrow-bf35a7badd14497fba7fe06319e3fcbe-0-7\" stroke-width=\"2px\" d=\"M1120,177.0 C1120,2.0 1450.0,2.0 1450.0,177.0\" fill=\"none\" stroke=\"currentColor\"/>\n",
       "    <text dy=\"1.25em\" style=\"font-size: 0.8em; letter-spacing: 1px\">\n",
       "        <textPath xlink:href=\"#arrow-bf35a7badd14497fba7fe06319e3fcbe-0-7\" class=\"displacy-label\" startOffset=\"50%\" side=\"left\" fill=\"currentColor\" text-anchor=\"middle\">amod</textPath>\n",
       "    </text>\n",
       "    <path class=\"displacy-arrowhead\" d=\"M1450.0,179.0 L1458.0,167.0 1442.0,167.0\" fill=\"currentColor\"/>\n",
       "</g>\n",
       "</svg></span>"
      ],
      "text/plain": [
       "<IPython.core.display.HTML object>"
      ]
     },
     "metadata": {},
     "output_type": "display_data"
    }
   ],
   "source": [
    "from spacy import displacy\n",
    "\n",
    "#visualise les dépendances\n",
    "texte_visu = \"Après analyse, le cardiologue recommande un scanner cardiaque immédiat.\"\n",
    "doc_visu = nlp(texte_visu)\n",
    "displacy.render(doc_visu, style='dep', jupyter=True)"
   ]
  },
  {
   "cell_type": "markdown",
   "id": "9feef5c3",
   "metadata": {},
   "source": [
    "## Étape 2 : Requête Médicament + Posologie"
   ]
  },
  {
   "cell_type": "code",
   "execution_count": 12,
   "id": "9439d200",
   "metadata": {},
   "outputs": [],
   "source": [
    "import spacy\n",
    "import re\n",
    "\n",
    "nlp = spacy.load(\"fr_core_news_sm\")\n",
    "\n",
    "def est_posologie(token):\n",
    "    texte = token.text.lower()\n",
    "    return (\n",
    "        token.like_num or\n",
    "        \"mg\" in texte or\n",
    "        \"g\" in texte or\n",
    "        \"ml\" in texte or\n",
    "        texte in {\"x\", \"fois\", \"comprimé\", \"comprimés\", \"jour\", \"semaine\", \"matin\", \"soir\"} or\n",
    "        re.match(r\"\\d+x\", texte) or  # Capture \"3x\"\n",
    "        token.is_punct  # Capture \"/\" dans \"3x/jour\"\n",
    "    )0\n",
    "\n",
    "def extraire_posologie(doc):\n",
    "    relations = []\n",
    "    i = 0\n",
    "    while i < len(doc):\n",
    "        token = doc[i]\n",
    "        # Recherche des médicaments (noms communs, adapté aux cas comme \"amoxicilline\")\n",
    "        if token.pos_ == \"NOUN\" and token.text.islower():\n",
    "            med = token.text\n",
    "            posologie_parts = []\n",
    "            j = i + 1\n",
    "            \n",
    "            # Parcourir les tokens suivants pour former la posologie\n",
    "            while j < len(doc) and (est_posologie(doc[j]) or doc[j].text == \"/\"):\n",
    "                current_token = doc[j]\n",
    "                # Fusionner \"500\" + \"mg\" → \"500mg\"\n",
    "                if current_token.like_num and j + 1 < len(doc) and doc[j+1].text in {\"mg\", \"g\", \"ml\"}:\n",
    "                    posologie_parts.append(f\"{current_token.text}{doc[j+1].text}\")\n",
    "                    j += 2  # Sauter le token suivant déjà traité\n",
    "                # Fusionner \"3x\" + \"/\" + \"jour\" → \"3x/jour\"\n",
    "                elif re.match(r\"\\d+x\", current_token.text) and j + 2 < len(doc) and doc[j+1].text == \"/\":\n",
    "                    posologie_parts.append(f\"{current_token.text}/{doc[j+2].text}\")\n",
    "                    j += 3\n",
    "                else:\n",
    "                    posologie_parts.append(current_token.text)\n",
    "                    j += 1\n",
    "            \n",
    "            if posologie_parts:\n",
    "                relations.append((med, \" \".join(posologie_parts)))\n",
    "            i = j  # Mettre à jour l'index\n",
    "        else:\n",
    "            i += 1\n",
    "    return relations"
   ]
  },
  {
   "cell_type": "code",
   "execution_count": 13,
   "id": "6dfdce02",
   "metadata": {},
   "outputs": [
    {
     "name": "stdout",
     "output_type": "stream",
     "text": [
      "[('amoxicilline', '500mg 3x/jour .')]\n"
     ]
    }
   ],
   "source": [
    "# Test avec la phrase\n",
    "texte = \"Le médecin prescrit de l'amoxicilline 500 mg 3x / jour.\"\n",
    "doc = nlp(texte)\n",
    "print(extraire_posologie(doc)) "
   ]
  },
  {
   "cell_type": "markdown",
   "id": "4367ea6c",
   "metadata": {},
   "source": [
    "# Analyse sur 5 phrases test sur Extraction de relations et de Négations. "
   ]
  },
  {
   "cell_type": "code",
   "execution_count": 14,
   "id": "313fb6b5",
   "metadata": {},
   "outputs": [
    {
     "name": "stdout",
     "output_type": "stream",
     "text": [
      "[('patient', 'prend', 'médicaments')]\n"
     ]
    }
   ],
   "source": [
    "phrase1 = \"Le patient ne prend pas ses médicaments.\"\n",
    "print(extraire_relations(phrase1))"
   ]
  },
  {
   "cell_type": "code",
   "execution_count": 15,
   "id": "8fb570f8",
   "metadata": {},
   "outputs": [
    {
     "name": "stdout",
     "output_type": "stream",
     "text": [
      "[('patient', 'NE PAS prendre', 'médicaments')]\n"
     ]
    }
   ],
   "source": [
    "print(extraire_relations_neg(phrase1))"
   ]
  },
  {
   "cell_type": "code",
   "execution_count": 16,
   "id": "33edb50c",
   "metadata": {},
   "outputs": [
    {
     "name": "stdout",
     "output_type": "stream",
     "text": [
      "[('fièvre', 'raison', 'administre'), ('infirmière', 'administre', 'paracétamol')]\n"
     ]
    }
   ],
   "source": [
    "phrase2 =\"En raison de la fièvre, l'infirmière administre du paracétamol.\"\n",
    "print(extraire_relations(phrase2))"
   ]
  },
  {
   "cell_type": "code",
   "execution_count": 17,
   "id": "42044dd0",
   "metadata": {},
   "outputs": [
    {
     "data": {
      "text/plain": [
       "[]"
      ]
     },
     "execution_count": 17,
     "metadata": {},
     "output_type": "execute_result"
    }
   ],
   "source": [
    "extraire_relations_neg(phrase2)"
   ]
  },
  {
   "cell_type": "code",
   "execution_count": 18,
   "id": "090f8ea9",
   "metadata": {},
   "outputs": [
    {
     "name": "stdout",
     "output_type": "stream",
     "text": [
      "[('cardiologue', 'recommande', 'scanner')]\n"
     ]
    }
   ],
   "source": [
    "phrase3 =\"Le cardiologue recommande un scanner cardiaque immédiat.\"\n",
    "print(extraire_relations(phrase3))"
   ]
  },
  {
   "cell_type": "code",
   "execution_count": 19,
   "id": "b06c289e",
   "metadata": {},
   "outputs": [
    {
     "data": {
      "text/plain": [
       "[]"
      ]
     },
     "execution_count": 19,
     "metadata": {},
     "output_type": "execute_result"
    }
   ],
   "source": [
    "extraire_relations_neg(phrase3)"
   ]
  },
  {
   "cell_type": "code",
   "execution_count": 20,
   "id": "87e17964",
   "metadata": {},
   "outputs": [
    {
     "name": "stdout",
     "output_type": "stream",
     "text": [
      "[]\n"
     ]
    }
   ],
   "source": [
    "phrase4 = \"Pas de traitement antibiotique pour cette infection.\"\n",
    "print(extraire_relations(phrase4))"
   ]
  },
  {
   "cell_type": "code",
   "execution_count": 21,
   "id": "ff507f4e",
   "metadata": {},
   "outputs": [
    {
     "data": {
      "text/plain": [
       "[('—', 'NE PAS utiliser', 'traitement')]"
      ]
     },
     "execution_count": 21,
     "metadata": {},
     "output_type": "execute_result"
    }
   ],
   "source": [
    "extraire_relations_neg(phrase4)"
   ]
  },
  {
   "cell_type": "code",
   "execution_count": 22,
   "id": "750fc00e",
   "metadata": {},
   "outputs": [
    {
     "name": "stdout",
     "output_type": "stream",
     "text": [
      "[('Il', 'faut', 'prescrire')]\n"
     ]
    }
   ],
   "source": [
    "phrase5 =\"Il ne faut pas prescrire le paracétamol dans ce cas.\"\n",
    "print(extraire_relations(phrase5))"
   ]
  },
  {
   "cell_type": "code",
   "execution_count": 23,
   "id": "808bec68",
   "metadata": {},
   "outputs": [
    {
     "data": {
      "text/plain": [
       "[('Il', 'NE PAS falloir', 'paracétamol')]"
      ]
     },
     "execution_count": 23,
     "metadata": {},
     "output_type": "execute_result"
    }
   ],
   "source": [
    "extraire_relations_neg(phrase5)"
   ]
  },
  {
   "cell_type": "code",
   "execution_count": 24,
   "id": "d2948574",
   "metadata": {},
   "outputs": [
    {
     "name": "stdout",
     "output_type": "stream",
     "text": [
      "\n",
      "Phrase : Le patient refuse l'anticoagulant malgré son AVC récent.\n",
      "Relations positives : [('patient', 'refuse', 'anticoagulant')]\n",
      "Relations avec négation : []\n",
      "\n",
      "Phrase : Prescription : ibuprofène 400mg si douleur, maximum 3 comprimés/jour.\n",
      "Relations positives : []\n",
      "Relations avec négation : []\n",
      "\n",
      "Phrase : Pas d'antibiothérapie pour cette infection virale.\n",
      "Relations positives : []\n",
      "Relations avec négation : [('—', 'NE PAS utiliser', 'antibiothérapie')]\n",
      "\n",
      "Phrase : Le patient ne prend pas ses médicaments.\n",
      "Relations positives : [('patient', 'prend', 'médicaments')]\n",
      "Relations avec négation : [('patient', 'NE PAS prendre', 'médicaments')]\n",
      "\n",
      "Phrase : En raison de la fièvre, l'infirmière administre du paracétamol.\n",
      "Relations positives : [('fièvre', 'raison', 'administre'), ('infirmière', 'administre', 'paracétamol')]\n",
      "Relations avec négation : []\n",
      "\n",
      "Phrase : Le cardiologue recommande un scanner cardiaque immédiat.\n",
      "Relations positives : [('cardiologue', 'recommande', 'scanner')]\n",
      "Relations avec négation : []\n",
      "\n",
      "Phrase : Pas de traitement antibiotique pour cette infection.\n",
      "Relations positives : []\n",
      "Relations avec négation : [('—', 'NE PAS utiliser', 'traitement')]\n",
      "\n",
      "Phrase : Il ne faut pas prescrire le paracétamol dans ce cas.\n",
      "Relations positives : [('Il', 'faut', 'prescrire')]\n",
      "Relations avec négation : [('Il', 'NE PAS falloir', 'paracétamol')]\n"
     ]
    }
   ],
   "source": [
    "phrases_test = [\n",
    "        \"Le patient refuse l'anticoagulant malgré son AVC récent.\", \n",
    "        \"Prescription : ibuprofène 400mg si douleur, maximum 3 comprimés/jour.\", \n",
    "        \"Pas d'antibiothérapie pour cette infection virale.\" ,\n",
    "        \"Le patient ne prend pas ses médicaments.\",\n",
    "        \"En raison de la fièvre, l'infirmière administre du paracétamol.\",\n",
    "        \"Le cardiologue recommande un scanner cardiaque immédiat.\",\n",
    "        \"Pas de traitement antibiotique pour cette infection.\",\n",
    "        \"Il ne faut pas prescrire le paracétamol dans ce cas.\"\n",
    "    ]\n",
    "\n",
    "for phrase in phrases_test:\n",
    "    print(\"\\nPhrase :\", phrase)\n",
    "    print(\"Relations positives :\", extraire_relations(phrase))\n",
    "    print(\"Relations avec négation :\", extraire_relations_neg(phrase))"
   ]
  },
  {
   "cell_type": "code",
   "execution_count": null,
   "id": "87951097",
   "metadata": {},
   "outputs": [],
   "source": []
  }
 ],
 "metadata": {
  "kernelspec": {
   "display_name": "Python 3 (ipykernel)",
   "language": "python",
   "name": "python3"
  },
  "language_info": {
   "codemirror_mode": {
    "name": "ipython",
    "version": 3
   },
   "file_extension": ".py",
   "mimetype": "text/x-python",
   "name": "python",
   "nbconvert_exporter": "python",
   "pygments_lexer": "ipython3",
   "version": "3.11.5"
  }
 },
 "nbformat": 4,
 "nbformat_minor": 5
}
