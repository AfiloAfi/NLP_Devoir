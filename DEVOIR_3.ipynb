{
 "cells": [
  {
   "cell_type": "markdown",
   "id": "98ca7f67",
   "metadata": {},
   "source": [
    "# Exercice 1 – Nettoyage du texte médical"
   ]
  },
  {
   "cell_type": "markdown",
   "id": "1344efe7",
   "metadata": {},
   "source": [
    "Nettoyer un texte médical brut en supprimant :\n",
    "- Les dates (`12/03/25`)\n",
    "- Les valeurs numériques avec unités (`125mg/L`)\n",
    "- Les caractères spéciaux (`#`, `°`)\n",
    "Et normaliser :\n",
    "- Abréviations (`Ttt` → `traitement`)\n",
    "- Erreurs (`pat.` → `patient`)"
   ]
  },
  {
   "cell_type": "code",
   "execution_count": 1,
   "id": "aedde8d8",
   "metadata": {},
   "outputs": [],
   "source": [
    "import re"
   ]
  },
  {
   "cell_type": "code",
   "execution_count": 2,
   "id": "68c6b0fa",
   "metadata": {},
   "outputs": [],
   "source": [
    "def nettoyer_texte(texte):\n",
    "    # 1. Dictionnaire d'abréviations médicales\n",
    "    abreviations = {\n",
    "        r\"\\bTtt\\b\": \"traitement\",\n",
    "        r\"\\bpat\\.?\\b\": \"patient\",\n",
    "        r\"\\bIV\\b\": \"intraveineuse\",\n",
    "        r\"\\bBID\\b\": \"bis in die\"\n",
    "    }\n",
    "\n",
    "    # 2. Sauvegarder les concepts composés (COVID-19, etc.)\n",
    "    concepts = re.findall(r'\\b\\w+-\\w+\\b', texte)\n",
    "    for i, c in enumerate(concepts):\n",
    "        texte = texte.replace(c, f\"__CONCEPT{i}__\")\n",
    "    \n",
    "    # 3. Supprimer les dates\n",
    "    texte = re.sub(r\"\\b\\d{1,2}/\\d{1,2}/\\d{2,4}\\b\", \"\", texte)\n",
    "\n",
    "    # 4. Supprimer les valeurs numériques avec unités (ex: 500mg/J, 39.2°C)\n",
    "    texte = re.sub(r\"\\d+(?:[\\.,]\\d+)?\\s*[a-zA-Z/%°]+\", \"\", texte)\n",
    "\n",
    "    # 5. Remplacer les abréviations\n",
    "    for pattern, remplacement in abreviations.items():\n",
    "        texte = re.sub(pattern, remplacement, texte, flags=re.IGNORECASE)\n",
    "\n",
    "    # 6. Supprimer caractères spéciaux (garder tirets pour concepts médicaux)\n",
    "    texte = re.sub(r\"[^\\w\\sàâäéèêëîïôöùûüç-]\", \"\", texte)\n",
    "\n",
    "    # 7. Supprimer les nombres isolés (entiers ou décimaux)\n",
    "    texte = re.sub(r\"\\b\\d+(?:[\\.,]\\d+)?\\b\", \"\", texte)\n",
    "\n",
    "    # 8. Supprimer les <, > ou autres symboles isolés\n",
    "    texte = re.sub(r\"[<>]\", \"\", texte)\n",
    "\n",
    "    # 9. Nettoyer les espaces multiples\n",
    "    texte = re.sub(r\"\\s+\", \" \", texte)\n",
    "\n",
    "    # 10. Restaurer les concepts médicaux protégés\n",
    "    for i, c in enumerate(concepts):\n",
    "        texte = texte.replace(f\"__CONCEPT{i}__\", c)\n",
    "\n",
    "    return texte.strip()\n"
   ]
  },
  {
   "cell_type": "code",
   "execution_count": 3,
   "id": "b597c617",
   "metadata": {},
   "outputs": [
    {
     "name": "stdout",
     "output_type": "stream",
     "text": [
      "Avant nettoyage:\n",
      " \n",
      "Pat. 45ans admis le 12/03/25 pour COVID-19 sévère.\n",
      "CRP: 125mg/L (N<5) - Fièvre à 39.2°C.\n",
      "Ttt par corticoïdes IV + azithromycine 500mg/J.\n",
      "#Attention: allergie à la pénicilline!\n",
      "\n",
      "\n",
      "Après nettoyage:\n",
      " patient admis le pour COVID-19 sévère CRP N5 - Fièvre à traitement par corticoïdes intraveineuse azithromycine Attention allergie à la pénicilline\n"
     ]
    }
   ],
   "source": [
    "# Test\n",
    "texte_medical = \"\"\"\n",
    "Pat. 45ans admis le 12/03/25 pour COVID-19 sévère.\n",
    "CRP: 125mg/L (N<5) - Fièvre à 39.2°C.\n",
    "Ttt par corticoïdes IV + azithromycine 500mg/J.\n",
    "#Attention: allergie à la pénicilline!\n",
    "\"\"\"\n",
    "\n",
    "print(\"Avant nettoyage:\\n\", texte_medical)\n",
    "print(\"\\nAprès nettoyage:\\n\", nettoyer_texte(texte_medical))"
   ]
  },
  {
   "cell_type": "markdown",
   "id": "4e45568c",
   "metadata": {},
   "source": [
    "\n",
    "**Interprétation :**\n",
    "\n",
    "- Avant nettoyage, le texte représentait un extrait brut d’un compte-rendu hospitalier, typique du langage médical abrégé et codifié. Il incluait des **informations temporelles** comme la date d’admission (*12/03/25*), des **valeurs biologiques** avec unités (*CRP: 125mg/L*, *Fièvre à 39.2°C*), ainsi que des **abréviations médicales** courantes telles que *Pat.* pour *patient*, *Ttt* pour *traitement*, et *IV* pour *intraveineuse*. Le texte contenait aussi des **caractères spéciaux** comme `#`, `:` et `°`, souvent utilisés dans des notes rapides.\n",
    "\n",
    "- Après nettoyage, le texte a été **structuré et simplifié** pour un usage automatique. Les **dates, unités et chiffres** ont été supprimés, car ils ne sont pas toujours exploitables sans contexte. Les **abréviations** ont été **normalisées** en langage courant (*Ttt* → *traitement*, *IV* → *intraveineuse*), et les **concepts médicaux importants comme \"COVID-19\"** ont été préservés dans leur forme originale. Les caractères parasites ont disparu, et le texte est devenu **plus lisible et prêt à être traité par des algorithmes de NLP**, tout en gardant les éléments cliniques essentiels tels que *fièvre*, *traitement*, *corticoïdes*, et *allergie à la pénicilline*.\n"
   ]
  },
  {
   "cell_type": "markdown",
   "id": "71ba738d",
   "metadata": {},
   "source": [
    "# Exercice 2 – Tokenisation médicale"
   ]
  },
  {
   "cell_type": "markdown",
   "id": "e8e2f8e3",
   "metadata": {},
   "source": [
    "1. Conserver les concepts composés (ex: `\"COVID-19\"`)\n",
    "2. Séparer les doses et unités (ex: `\"500mg/J\"` → `[\"500\", \"mg\", \"/\", \"J\"]`)\n",
    "3. Utiliser un dictionnaire d’abréviations"
   ]
  },
  {
   "cell_type": "code",
   "execution_count": 4,
   "id": "bfa365fb",
   "metadata": {},
   "outputs": [
    {
     "name": "stderr",
     "output_type": "stream",
     "text": [
      "[nltk_data] Downloading package punkt to\n",
      "[nltk_data]     C:\\Users\\Ideapad\\AppData\\Roaming\\nltk_data...\n",
      "[nltk_data]   Package punkt is already up-to-date!\n"
     ]
    }
   ],
   "source": [
    "import nltk, re\n",
    "from nltk.tokenize import word_tokenize\n",
    "nltk.download('punkt')\n",
    "\n",
    "def tokeniser(txt: str):\n",
    "    # 1) Protéger les composés avec tiret (COVID-19)\n",
    "    txt = re.sub(r'(\\w+)-(\\d+)', lambda m: m.group(0).replace('-', '§'), txt)\n",
    "\n",
    "    # 2) Séparer chiffres et unités (ajout de 'ng' et autres unités)\n",
    "    txt = re.sub(r'(\\d+)(m?g|ml|µg|ng|UI|[a-zA-Z]{1,3})', r'\\1 \\2', txt, flags=re.IGNORECASE)\n",
    "    \n",
    "    # 3) Gérer les ratios avec slash (ajout de '+' pour les unités composées)\n",
    "    txt = re.sub(r'([a-zA-Z]+)/([a-zA-Z]{1,3})', r'\\1 / \\2', txt)\n",
    "    \n",
    "    # 4) Tokenisation standard\n",
    "    tokens = word_tokenize(txt, language='french')\n",
    "    \n",
    "    # 5) Restaurer les tirets protégés\n",
    "    return [t.replace('§', '-') for t in tokens]\n"
   ]
  },
  {
   "cell_type": "code",
   "execution_count": 5,
   "id": "d97f222b",
   "metadata": {},
   "outputs": [
    {
     "data": {
      "text/plain": [
       "['Pat',\n",
       " '.',\n",
       " '45',\n",
       " 'ans',\n",
       " 'admis',\n",
       " 'le',\n",
       " '12/03/25',\n",
       " 'pour',\n",
       " 'COVID-19',\n",
       " 'sévère',\n",
       " '.',\n",
       " 'CRP',\n",
       " ':',\n",
       " '125',\n",
       " 'mg',\n",
       " '/',\n",
       " 'L',\n",
       " '(',\n",
       " 'N',\n",
       " '<',\n",
       " '5',\n",
       " ')',\n",
       " '-',\n",
       " 'Fièvre',\n",
       " 'à',\n",
       " '39.2°C',\n",
       " '.',\n",
       " 'Ttt',\n",
       " 'par',\n",
       " 'corticoïdes',\n",
       " 'IV',\n",
       " '+',\n",
       " 'azithromycine',\n",
       " '500',\n",
       " 'mg',\n",
       " '/',\n",
       " 'J',\n",
       " '.',\n",
       " '#',\n",
       " 'Attention',\n",
       " ':',\n",
       " 'allergie',\n",
       " 'à',\n",
       " 'la',\n",
       " 'pénicilline',\n",
       " '!']"
      ]
     },
     "execution_count": 5,
     "metadata": {},
     "output_type": "execute_result"
    }
   ],
   "source": [
    "#pour texte non cleaning\n",
    "tokeniser(texte_medical)"
   ]
  },
  {
   "cell_type": "markdown",
   "id": "4fd3f30a",
   "metadata": {},
   "source": [
    "\n",
    "Après tokenisation, le texte médical brut a été transformé en une liste de mots et de symboles isolés, ce qui permet une lecture fine et un traitement automatique efficace. Chaque élément du texte, qu’il s’agisse de mots, de chiffres, de ponctuation ou de symboles médicaux, a été séparé en unités distinctes appelées *tokens*. Les concepts médicaux composés comme **\"COVID-19\"** ont été correctement conservés en un seul bloc, ce qui est essentiel pour ne pas altérer le sens clinique. Les doses et unités telles que **\"125mg/L\"** ou **\"500mg/J\"** ont été finement découpées en sous-éléments (`['125', 'mg', '/', 'L']`), facilitant ainsi leur traitement ou suppression si nécessaire. Les abréviations médicales comme **\"Pat\"**, **\"Ttt\"** et **\"IV\"** ont été isolées, prêtes à être normalisées dans l’étape suivante. La ponctuation et les symboles spéciaux comme **\".\"**, **\":\"**, **\"#\"**, ou **\"!\"** ont également été extraits individuellement, ce qui permet un nettoyage ciblé. Cette tokenisation fine prépare le texte à un traitement plus avancé, comme la normalisation lexicale ou l’analyse sémantique, tout en conservant la structure informative du compte-rendu médical initial.\n",
    "\n"
   ]
  },
  {
   "cell_type": "markdown",
   "id": "6124b0e0",
   "metadata": {},
   "source": [
    "# Dictionnaire des abréviations\n",
    "\n",
    "## Objectif\n",
    "Créer un système de remplacement automatique des abréviations médicales courantes dans le texte."
   ]
  },
  {
   "cell_type": "code",
   "execution_count": 6,
   "id": "1024290e",
   "metadata": {},
   "outputs": [],
   "source": [
    "#Créer le dictionnaire\n",
    "ABREVIATIONS = {\n",
    "    \"ttt\": \"traitement\",\n",
    "    \"BID\": \"bis in die\",       # Signifie \"deux fois par jour\" en latin\n",
    "    \"IV\": \"intraveineuse\",     # Administration par voie veineuse\n",
    "    \"TDM\": \"tomodensitométrie\",\n",
    "    \"PCR\": \"réaction en chaîne par polymérase\",\n",
    "    \"ECG\": \"électrocardiogramme\"\n",
    "}"
   ]
  },
  {
   "cell_type": "code",
   "execution_count": 7,
   "id": "3e0ab716",
   "metadata": {},
   "outputs": [
    {
     "data": {
      "text/plain": [
       "'patient admis le pour COVID-19 sévère CRP N5 - Fièvre à traitement par corticoïdes intraveineuse azithromycine Attention allergie à la pénicilline'"
      ]
     },
     "execution_count": 7,
     "metadata": {},
     "output_type": "execute_result"
    }
   ],
   "source": [
    "#Tester avec un cas réel\n",
    "texte_nettoye=nettoyer_texte(texte_medical)\n",
    "texte_nettoye"
   ]
  },
  {
   "cell_type": "code",
   "execution_count": 8,
   "id": "217b4a06",
   "metadata": {},
   "outputs": [
    {
     "name": "stdout",
     "output_type": "stream",
     "text": [
      "Le patient reçoit bis in die une perfusion intraveineuse de soluté physiologique\n"
     ]
    }
   ],
   "source": [
    "texte_test = \"Le patient reçoit BID une perfusion IV de soluté physiologique.\"\n",
    "print(nettoyer_texte(texte_test)) "
   ]
  },
  {
   "cell_type": "markdown",
   "id": "bd03cda7",
   "metadata": {},
   "source": [
    "# Exercice 3 : Normalisation Expert\n",
    "\n",
    "### Objectifs :\n",
    "1. Convertir certains termes médicaux (`\"corticoïdes\"` → `\"glucocorticoides\"`)\n",
    "2. Traduire des expressions spécifiques (`\"++fébrile\"` → `\"hyperthermique\"`)\n",
    "3. Corriger les erreurs de transcription (`\"hyp0glycémie\"` → `\"hypoglycémie\"`)"
   ]
  },
  {
   "cell_type": "code",
   "execution_count": 9,
   "id": "6188907d",
   "metadata": {},
   "outputs": [],
   "source": [
    "#Étape 1 : Dictionnaires de normalisation\n",
    "termes_medicaux = {\n",
    "    \"corticoïdes\": \"glucocorticoides\",\n",
    "    \"fébrile\": \"hyperthermique\",\n",
    "    \"++fébrile\": \"hyperthermique\",  # au cas où on détecte l'expression complète\n",
    "}\n",
    "\n",
    "corrections_orthographiques = {\n",
    "    \"hyp0glycémie\": \"hypoglycémie\"\n",
    "}"
   ]
  },
  {
   "cell_type": "code",
   "execution_count": 10,
   "id": "d29e8844",
   "metadata": {},
   "outputs": [],
   "source": [
    "#Étape 2 : Fonction de correction orthographique\n",
    "def corriger(mot):\n",
    "    return corrections_orthographiques.get(mot, mot)"
   ]
  },
  {
   "cell_type": "code",
   "execution_count": 11,
   "id": "26a6423a",
   "metadata": {},
   "outputs": [],
   "source": [
    "#Étape 4 : Fonction de normalisation\n",
    "def normaliser_tokens(tokens):\n",
    "    tokens_normalises = []\n",
    "    for token in tokens:\n",
    "        token = corriger(token)  # Correction orthographique\n",
    "        if token in termes_medicaux:\n",
    "            token = termes_medicaux[token]  # Normalisation médicale\n",
    "        tokens_normalises.append(token)\n",
    "    return tokens_normalises"
   ]
  },
  {
   "cell_type": "code",
   "execution_count": 12,
   "id": "5db5dad6",
   "metadata": {},
   "outputs": [
    {
     "name": "stdout",
     "output_type": "stream",
     "text": [
      "Normalisation expert:\n",
      " ['patient', 'admis', 'le', 'pour', 'COVID-19', 'sévère', 'CRP', 'N5', '-', 'Fièvre', 'à', 'traitement', 'par', 'glucocorticoides', 'intraveineuse', 'azithromycine', 'Attention', 'allergie', 'à', 'la', 'pénicilline']\n"
     ]
    }
   ],
   "source": [
    "# Test\n",
    "tokens = tokeniser(texte_nettoye)\n",
    "print(\"Normalisation expert:\\n\", normaliser_tokens(tokens))"
   ]
  },
  {
   "cell_type": "markdown",
   "id": "858b2ea0",
   "metadata": {},
   "source": [
    "# Tests des fonctions avec des comptes-rendus générés par ChatGPT"
   ]
  },
  {
   "cell_type": "code",
   "execution_count": 13,
   "id": "f522b52f",
   "metadata": {},
   "outputs": [],
   "source": [
    "## Test 1 : Rapport standard\n",
    "texte_medical1 = \"\"\"Patient 62 ans admis le 25/04/24 pour pancréatite aiguë.\n",
    "Bilan: Amylase 1500U/L, CRP 85mg/L.\n",
    "Ttt: jeûne + analgésiques IV. BID surveillance.\n",
    "Note: Allergie aux AINS (écrit 'AINSs' dans le CR original).\"\"\""
   ]
  },
  {
   "cell_type": "code",
   "execution_count": 14,
   "id": "8d5770d4",
   "metadata": {},
   "outputs": [
    {
     "name": "stdout",
     "output_type": "stream",
     "text": [
      "Avant nettoyage:\n",
      " Patient 62 ans admis le 25/04/24 pour pancréatite aiguë.\n",
      "Bilan: Amylase 1500U/L, CRP 85mg/L.\n",
      "Ttt: jeûne + analgésiques IV. BID surveillance.\n",
      "Note: Allergie aux AINS (écrit 'AINSs' dans le CR original).\n",
      "\n",
      "Après nettoyage:\n",
      " Patient admis le pour pancréatite aiguë Bilan Amylase CRP traitement jeûne analgésiques intraveineuse bis in die surveillance Note Allergie aux AINS écrit AINSs dans le CR original\n"
     ]
    }
   ],
   "source": [
    "#Nettoyage\n",
    "print(\"Avant nettoyage:\\n\", texte_medical1)\n",
    "texte_nettoye=nettoyer_texte(texte_medical1)\n",
    "print(\"\\nAprès nettoyage:\\n\", texte_nettoye)"
   ]
  },
  {
   "cell_type": "code",
   "execution_count": 15,
   "id": "17682a99",
   "metadata": {},
   "outputs": [
    {
     "data": {
      "text/plain": [
       "['Patient',\n",
       " '62',\n",
       " 'ans',\n",
       " 'admis',\n",
       " 'le',\n",
       " '25/04/24',\n",
       " 'pour',\n",
       " 'pancréatite',\n",
       " 'aiguë',\n",
       " '.',\n",
       " 'Bilan',\n",
       " ':',\n",
       " 'Amylase',\n",
       " '1500',\n",
       " 'U',\n",
       " '/',\n",
       " 'L',\n",
       " ',',\n",
       " 'CRP',\n",
       " '85',\n",
       " 'mg',\n",
       " '/',\n",
       " 'L.',\n",
       " 'Ttt',\n",
       " ':',\n",
       " 'jeûne',\n",
       " '+',\n",
       " 'analgésiques',\n",
       " 'IV',\n",
       " '.',\n",
       " 'BID',\n",
       " 'surveillance',\n",
       " '.',\n",
       " 'Note',\n",
       " ':',\n",
       " 'Allergie',\n",
       " 'aux',\n",
       " 'AINS',\n",
       " '(',\n",
       " 'écrit',\n",
       " \"'AINSs\",\n",
       " \"'\",\n",
       " 'dans',\n",
       " 'le',\n",
       " 'CR',\n",
       " 'original',\n",
       " ')',\n",
       " '.']"
      ]
     },
     "execution_count": 15,
     "metadata": {},
     "output_type": "execute_result"
    }
   ],
   "source": [
    "#tokenisation\n",
    "tokens1 = tokeniser(texte_medical1)\n",
    "tokens1"
   ]
  },
  {
   "cell_type": "code",
   "execution_count": 16,
   "id": "c8c9030b",
   "metadata": {},
   "outputs": [
    {
     "name": "stdout",
     "output_type": "stream",
     "text": [
      "Normalisation expert:\n",
      " ['patient', 'admis', 'le', 'pour', 'COVID-19', 'sévère', 'CRP', 'N5', '-', 'Fièvre', 'à', 'traitement', 'par', 'glucocorticoides', 'intraveineuse', 'azithromycine', 'Attention', 'allergie', 'à', 'la', 'pénicilline']\n"
     ]
    }
   ],
   "source": [
    "#Normalisation expert\n",
    "print(\"Normalisation expert:\\n\", normaliser_tokens(tokens))"
   ]
  },
  {
   "cell_type": "code",
   "execution_count": 17,
   "id": "2bc172b5",
   "metadata": {},
   "outputs": [],
   "source": [
    "## Test 2 : Urgence cardiologique\n",
    "texte_medical2 = \"\"\"Pat. 78ans,++douleur thoracique. ECG: sus-décalage ST.\n",
    "Troponine: 15ng/mL (N<14).\n",
    "Ttt: Aspirine 250mg + héparine 5000UI SC.\"\"\""
   ]
  },
  {
   "cell_type": "code",
   "execution_count": 18,
   "id": "366345c4",
   "metadata": {},
   "outputs": [
    {
     "name": "stdout",
     "output_type": "stream",
     "text": [
      "Avant nettoyage:\n",
      " Pat. 78ans,++douleur thoracique. ECG: sus-décalage ST.\n",
      "Troponine: 15ng/mL (N<14).\n",
      "Ttt: Aspirine 250mg + héparine 5000UI SC.\n",
      "\n",
      "Après nettoyage:\n",
      " patient douleur thoracique ECG sus-décalage ST Troponine N14 traitement Aspirine héparine SC\n"
     ]
    }
   ],
   "source": [
    "#Nettoyage\n",
    "print(\"Avant nettoyage:\\n\", texte_medical2)\n",
    "texte_nettoye=nettoyer_texte(texte_medical2)\n",
    "print(\"\\nAprès nettoyage:\\n\", texte_nettoye)"
   ]
  },
  {
   "cell_type": "code",
   "execution_count": 19,
   "id": "0d81faf9",
   "metadata": {},
   "outputs": [
    {
     "data": {
      "text/plain": [
       "['Pat',\n",
       " '.',\n",
       " '78',\n",
       " 'ans',\n",
       " ',',\n",
       " '++douleur',\n",
       " 'thoracique',\n",
       " '.',\n",
       " 'ECG',\n",
       " ':',\n",
       " 'sus-décalage',\n",
       " 'ST',\n",
       " '.',\n",
       " 'Troponine',\n",
       " ':',\n",
       " '15',\n",
       " 'ng',\n",
       " '/',\n",
       " 'mL',\n",
       " '(',\n",
       " 'N',\n",
       " '<',\n",
       " '14',\n",
       " ')',\n",
       " '.',\n",
       " 'Ttt',\n",
       " ':',\n",
       " 'Aspirine',\n",
       " '250',\n",
       " 'mg',\n",
       " '+',\n",
       " 'héparine',\n",
       " '5000',\n",
       " 'UI',\n",
       " 'SC',\n",
       " '.']"
      ]
     },
     "execution_count": 19,
     "metadata": {},
     "output_type": "execute_result"
    }
   ],
   "source": [
    "#tokenisation\n",
    "tokens2 = tokeniser(texte_medical2)\n",
    "tokens2"
   ]
  },
  {
   "cell_type": "code",
   "execution_count": 20,
   "id": "06384983",
   "metadata": {},
   "outputs": [
    {
     "name": "stdout",
     "output_type": "stream",
     "text": [
      "Normalisation expert:\n",
      " ['Pat', '.', '78', 'ans', ',', '++douleur', 'thoracique', '.', 'ECG', ':', 'sus-décalage', 'ST', '.', 'Troponine', ':', '15', 'ng', '/', 'mL', '(', 'N', '<', '14', ')', '.', 'Ttt', ':', 'Aspirine', '250', 'mg', '+', 'héparine', '5000', 'UI', 'SC', '.']\n"
     ]
    }
   ],
   "source": [
    "#Normalisation expert\n",
    "print(\"Normalisation expert:\\n\", normaliser_tokens(tokens2))"
   ]
  },
  {
   "cell_type": "code",
   "execution_count": 21,
   "id": "8a8e2ed6",
   "metadata": {},
   "outputs": [],
   "source": [
    "## Test 3 : Scan de note manuscrite\n",
    "texte_medical3 = \"\"\"Pat. 45F - Tdm cérébrale: lésion hypo-dense 2cm.\n",
    "Rx thorax: opacités ++ -> PCR COVID-19+\n",
    "Médicaments: paracétamol 1g x3/j (écrit 'paracetamol')\"\"\""
   ]
  },
  {
   "cell_type": "code",
   "execution_count": 22,
   "id": "2e677df5",
   "metadata": {},
   "outputs": [
    {
     "name": "stdout",
     "output_type": "stream",
     "text": [
      "Avant nettoyage:\n",
      " Pat. 45F - Tdm cérébrale: lésion hypo-dense 2cm.\n",
      "Rx thorax: opacités ++ -> PCR COVID-19+\n",
      "Médicaments: paracétamol 1g x3/j (écrit 'paracetamol')\n",
      "\n",
      "Après nettoyage:\n",
      " patient - Tdm cérébrale lésion hypo-dense Rx thorax opacités - PCR COVID-19 Médicaments paracétamol x écrit paracetamol\n"
     ]
    }
   ],
   "source": [
    "#Nettoyage\n",
    "print(\"Avant nettoyage:\\n\", texte_medical3)\n",
    "texte_nettoye=nettoyer_texte(texte_medical3)\n",
    "print(\"\\nAprès nettoyage:\\n\", texte_nettoye)"
   ]
  },
  {
   "cell_type": "code",
   "execution_count": 23,
   "id": "29ac6528",
   "metadata": {},
   "outputs": [
    {
     "data": {
      "text/plain": [
       "['Pat',\n",
       " '.',\n",
       " '45',\n",
       " 'F',\n",
       " '-',\n",
       " 'Tdm',\n",
       " 'cérébrale',\n",
       " ':',\n",
       " 'lésion',\n",
       " 'hypo-dense',\n",
       " '2',\n",
       " 'cm',\n",
       " '.',\n",
       " 'Rx',\n",
       " 'thorax',\n",
       " ':',\n",
       " 'opacités',\n",
       " '++',\n",
       " '-',\n",
       " '>',\n",
       " 'PCR',\n",
       " 'COVID-19+',\n",
       " 'Médicaments',\n",
       " ':',\n",
       " 'paracétamol',\n",
       " '1',\n",
       " 'g',\n",
       " 'x3/j',\n",
       " '(',\n",
       " 'écrit',\n",
       " \"'paracetamol\",\n",
       " \"'\",\n",
       " ')']"
      ]
     },
     "execution_count": 23,
     "metadata": {},
     "output_type": "execute_result"
    }
   ],
   "source": [
    "#tokenisation\n",
    "tokens3 = tokeniser(texte_medical3)\n",
    "tokens3"
   ]
  },
  {
   "cell_type": "code",
   "execution_count": 24,
   "id": "c7ff936d",
   "metadata": {},
   "outputs": [
    {
     "name": "stdout",
     "output_type": "stream",
     "text": [
      "Normalisation expert:\n",
      " ['Pat', '.', '45', 'F', '-', 'Tdm', 'cérébrale', ':', 'lésion', 'hypo-dense', '2', 'cm', '.', 'Rx', 'thorax', ':', 'opacités', '++', '-', '>', 'PCR', 'COVID-19+', 'Médicaments', ':', 'paracétamol', '1', 'g', 'x3/j', '(', 'écrit', \"'paracetamol\", \"'\", ')']\n"
     ]
    }
   ],
   "source": [
    "#Normalisation expert\n",
    "print(\"Normalisation expert:\\n\", normaliser_tokens(tokens3))"
   ]
  },
  {
   "cell_type": "code",
   "execution_count": 25,
   "id": "51b5de3f",
   "metadata": {},
   "outputs": [],
   "source": [
    "## Test 4 : Cas pédiatrique\n",
    "texte_medical4 = \"\"\"Nouveau-né 3.2kg - ICTère cutanéo-muqueux.\n",
    "Bilirubine totale: 350μmol/L (N<340).\n",
    "Photothérapie IV++/24h.\n",
    "Attention: risque d'érythème!\"\"\""
   ]
  },
  {
   "cell_type": "code",
   "execution_count": 26,
   "id": "b319201c",
   "metadata": {},
   "outputs": [
    {
     "name": "stdout",
     "output_type": "stream",
     "text": [
      "Avant nettoyage:\n",
      " Nouveau-né 3.2kg - ICTère cutanéo-muqueux.\n",
      "Bilirubine totale: 350μmol/L (N<340).\n",
      "Photothérapie IV++/24h.\n",
      "Attention: risque d'érythème!\n",
      "\n",
      "Après nettoyage:\n",
      " Nouveau-né - ICTère cutanéo-muqueux Bilirubine totale 350μmolL N340 Photothérapie intraveineuse Attention risque dérythème\n"
     ]
    }
   ],
   "source": [
    "#Nettoyage\n",
    "print(\"Avant nettoyage:\\n\", texte_medical4)\n",
    "texte_nettoye=nettoyer_texte(texte_medical4)\n",
    "print(\"\\nAprès nettoyage:\\n\", texte_nettoye)"
   ]
  },
  {
   "cell_type": "code",
   "execution_count": 27,
   "id": "f5a07b7a",
   "metadata": {},
   "outputs": [
    {
     "data": {
      "text/plain": [
       "['Nouveau-né',\n",
       " '3.2',\n",
       " 'kg',\n",
       " '-',\n",
       " 'ICTère',\n",
       " 'cutanéo-muqueux',\n",
       " '.',\n",
       " 'Bilirubine',\n",
       " 'totale',\n",
       " ':',\n",
       " '350μmol',\n",
       " '/',\n",
       " 'L',\n",
       " '(',\n",
       " 'N',\n",
       " '<',\n",
       " '340',\n",
       " ')',\n",
       " '.',\n",
       " 'Photothérapie',\n",
       " 'IV++/24',\n",
       " 'h',\n",
       " '.',\n",
       " 'Attention',\n",
       " ':',\n",
       " 'risque',\n",
       " \"d'érythème\",\n",
       " '!']"
      ]
     },
     "execution_count": 27,
     "metadata": {},
     "output_type": "execute_result"
    }
   ],
   "source": [
    "#tokenisation\n",
    "tokens4 = tokeniser(texte_medical4)\n",
    "tokens4"
   ]
  },
  {
   "cell_type": "code",
   "execution_count": 28,
   "id": "92537f02",
   "metadata": {},
   "outputs": [
    {
     "name": "stdout",
     "output_type": "stream",
     "text": [
      "Normalisation expert:\n",
      " ['Nouveau-né', '3.2', 'kg', '-', 'ICTère', 'cutanéo-muqueux', '.', 'Bilirubine', 'totale', ':', '350μmol', '/', 'L', '(', 'N', '<', '340', ')', '.', 'Photothérapie', 'IV++/24', 'h', '.', 'Attention', ':', 'risque', \"d'érythème\", '!']\n"
     ]
    }
   ],
   "source": [
    "#Normalisation expert\n",
    "print(\"Normalisation expert:\\n\", normaliser_tokens(tokens4))"
   ]
  },
  {
   "cell_type": "code",
   "execution_count": 29,
   "id": "28306830",
   "metadata": {},
   "outputs": [],
   "source": [
    "## Test 5 : Oncologie complexe\n",
    "texte_medical5 = \"\"\"Pat. cancéreux sous FOLFIRINOX (dose:85mg/m2).\n",
    "Complication: neutropénie grade4 (ANC<500).\n",
    "Rx: pneumopathie -> Ttt ATB IV (amikacine 15mg/kg/J).\n",
    "\"\"\""
   ]
  },
  {
   "cell_type": "code",
   "execution_count": 30,
   "id": "0fdf02cd",
   "metadata": {},
   "outputs": [
    {
     "name": "stdout",
     "output_type": "stream",
     "text": [
      "Avant nettoyage:\n",
      " Pat. cancéreux sous FOLFIRINOX (dose:85mg/m2).\n",
      "Complication: neutropénie grade4 (ANC<500).\n",
      "Rx: pneumopathie -> Ttt ATB IV (amikacine 15mg/kg/J).\n",
      "\n",
      "\n",
      "Après nettoyage:\n",
      " patient cancéreux sous FOLFIRINOX dose2 Complication neutropénie grade4 ANC500 Rx pneumopathie - traitement ATB intraveineuse amikacine\n"
     ]
    }
   ],
   "source": [
    "#Nettoyage\n",
    "print(\"Avant nettoyage:\\n\", texte_medical5)\n",
    "texte_nettoye=nettoyer_texte(texte_medical5)\n",
    "print(\"\\nAprès nettoyage:\\n\", texte_nettoye)"
   ]
  },
  {
   "cell_type": "code",
   "execution_count": 31,
   "id": "641ad9ce",
   "metadata": {},
   "outputs": [
    {
     "data": {
      "text/plain": [
       "['Pat',\n",
       " '.',\n",
       " 'cancéreux',\n",
       " 'sous',\n",
       " 'FOLFIRINOX',\n",
       " '(',\n",
       " 'dose:85',\n",
       " 'mg',\n",
       " '/',\n",
       " 'm2',\n",
       " ')',\n",
       " '.',\n",
       " 'Complication',\n",
       " ':',\n",
       " 'neutropénie',\n",
       " 'grade4',\n",
       " '(',\n",
       " 'ANC',\n",
       " '<',\n",
       " '500',\n",
       " ')',\n",
       " '.',\n",
       " 'Rx',\n",
       " ':',\n",
       " 'pneumopathie',\n",
       " '-',\n",
       " '>',\n",
       " 'Ttt',\n",
       " 'ATB',\n",
       " 'IV',\n",
       " '(',\n",
       " 'amikacine',\n",
       " '15',\n",
       " 'mg',\n",
       " '/',\n",
       " 'kg/J',\n",
       " ')',\n",
       " '.']"
      ]
     },
     "execution_count": 31,
     "metadata": {},
     "output_type": "execute_result"
    }
   ],
   "source": [
    "#tokenisation\n",
    "tokens5 = tokeniser(texte_medical5)\n",
    "tokens5"
   ]
  },
  {
   "cell_type": "code",
   "execution_count": 32,
   "id": "64fbe3d0",
   "metadata": {},
   "outputs": [
    {
     "name": "stdout",
     "output_type": "stream",
     "text": [
      "Normalisation expert:\n",
      " ['Pat', '.', 'cancéreux', 'sous', 'FOLFIRINOX', '(', 'dose:85', 'mg', '/', 'm2', ')', '.', 'Complication', ':', 'neutropénie', 'grade4', '(', 'ANC', '<', '500', ')', '.', 'Rx', ':', 'pneumopathie', '-', '>', 'Ttt', 'ATB', 'IV', '(', 'amikacine', '15', 'mg', '/', 'kg/J', ')', '.']\n"
     ]
    }
   ],
   "source": [
    "#Normalisation expert\n",
    "print(\"Normalisation expert:\\n\", normaliser_tokens(tokens5))"
   ]
  },
  {
   "cell_type": "code",
   "execution_count": null,
   "id": "e2cf4752",
   "metadata": {},
   "outputs": [],
   "source": []
  }
 ],
 "metadata": {
  "kernelspec": {
   "display_name": "Python 3 (ipykernel)",
   "language": "python",
   "name": "python3"
  },
  "language_info": {
   "codemirror_mode": {
    "name": "ipython",
    "version": 3
   },
   "file_extension": ".py",
   "mimetype": "text/x-python",
   "name": "python",
   "nbconvert_exporter": "python",
   "pygments_lexer": "ipython3",
   "version": "3.11.5"
  }
 },
 "nbformat": 4,
 "nbformat_minor": 5
}
